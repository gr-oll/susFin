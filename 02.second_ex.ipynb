{
  "cells": [
    {
      "cell_type": "markdown",
      "metadata": {
        "colab_type": "text",
        "id": "view-in-github"
      },
      "source": [
        "<a href=\"https://colab.research.google.com/github/gr-oll/susFin/blob/main/Finance_HW_2_Simon.ipynb\" target=\"_parent\"><img src=\"https://colab.research.google.com/assets/colab-badge.svg\" alt=\"Open In Colab\"/></a>"
      ]
    },
    {
      "cell_type": "code",
      "execution_count": 1,
      "metadata": {
        "id": "dZ5I7FIv1tcV"
      },
      "outputs": [],
      "source": [
        "import pandas as pd\n",
        "import io\n",
        "import requests\n",
        "from scipy.optimize import minimize\n",
        "import numpy as np"
      ]
    },
    {
      "cell_type": "markdown",
      "metadata": {
        "id": "ZWd-pLhc2kpT"
      },
      "source": [
        "**Exercise 1**"
      ]
    },
    {
      "cell_type": "code",
      "execution_count": 2,
      "metadata": {
        "id": "c4KXHnrY2cX-"
      },
      "outputs": [],
      "source": [
        "url = \"https://github.com/gr-oll/susFin/blob/main/Data/Static.xlsx?raw=true\"\n",
        "response = requests.get(url)\n",
        "Static = pd.read_excel(io.BytesIO(response.content))"
      ]
    },
    {
      "cell_type": "code",
      "execution_count": 3,
      "metadata": {
        "id": "4b5FhKfh3MoG"
      },
      "outputs": [],
      "source": [
        "Static = Static.rename(columns={'Name': 'NAME'})"
      ]
    },
    {
      "cell_type": "code",
      "execution_count": 4,
      "metadata": {
        "colab": {
          "base_uri": "https://localhost:8080/"
        },
        "id": "sG8fcr6n2q29",
        "outputId": "d0563a23-a5d5-4697-ff16-fd7df7248915"
      },
      "outputs": [
        {
          "name": "stdout",
          "output_type": "stream",
          "text": [
            "           ISIN                                NAME Country Region\n",
            "0  AN8068571086                        SCHLUMBERGER      US   AMER\n",
            "1  ARALUA010258                               ALUAR      AR     EM\n",
            "2  ARP125991090                BANCO BBVA ARGENTINA      AR     EM\n",
            "3  ARSIDE010029  TERNIUM ARGENTINA SOCIEDAD ANONIMA      AR     EM\n",
            "4  AT000000STR1                          STRABAG SE      AT    EUR\n"
          ]
        }
      ],
      "source": [
        "print(Static.head())\n"
      ]
    },
    {
      "cell_type": "code",
      "execution_count": 5,
      "metadata": {
        "id": "USHfmB2t2tdo"
      },
      "outputs": [],
      "source": [
        "url = \"https://github.com/gr-oll/susFin/blob/main/Data/DS_EScore_Y.xlsx?raw=true\"\n",
        "response = requests.get(url)\n",
        "Escore = pd.read_excel(io.BytesIO(response.content))"
      ]
    },
    {
      "cell_type": "code",
      "execution_count": 6,
      "metadata": {
        "id": "udDm7Gkk5UY_"
      },
      "outputs": [],
      "source": [
        "Escore = pd.melt(Escore, id_vars=['NAME','ISIN'], var_name='DATE', value_name='ESCORE')"
      ]
    },
    {
      "cell_type": "code",
      "execution_count": 7,
      "metadata": {
        "colab": {
          "base_uri": "https://localhost:8080/"
        },
        "id": "D0iU8Xbn3FgU",
        "outputId": "3ac62744-bf54-493e-8f00-3a0f2fc0ab41"
      },
      "outputs": [
        {
          "name": "stdout",
          "output_type": "stream",
          "text": [
            "                                 NAME          ISIN  DATE  ESCORE\n",
            "0                        SCHLUMBERGER  AN8068571086  1999     NaN\n",
            "1                               ALUAR  ARALUA010258  1999     NaN\n",
            "2                BANCO BBVA ARGENTINA  ARP125991090  1999     NaN\n",
            "3  TERNIUM ARGENTINA SOCIEDAD ANONIMA  ARSIDE010029  1999     NaN\n",
            "4                          STRABAG SE  AT000000STR1  1999     NaN\n"
          ]
        }
      ],
      "source": [
        "print(Escore.head())"
      ]
    },
    {
      "cell_type": "code",
      "execution_count": 8,
      "metadata": {
        "colab": {
          "base_uri": "https://localhost:8080/"
        },
        "id": "kIXwtWUC4LYr",
        "outputId": "bdb4297b-430c-4406-c859-bf5e67ab10d4"
      },
      "outputs": [
        {
          "name": "stdout",
          "output_type": "stream",
          "text": [
            "               ISIN          NAME Country Region  DATE  ESCORE\n",
            "0      AN8068571086  SCHLUMBERGER      US   AMER  1999     NaN\n",
            "1      AN8068571086  SCHLUMBERGER      US   AMER  2000     NaN\n",
            "2      AN8068571086  SCHLUMBERGER      US   AMER  2001     NaN\n",
            "3      AN8068571086  SCHLUMBERGER      US   AMER  2002   53.65\n",
            "4      AN8068571086  SCHLUMBERGER      US   AMER  2003   23.33\n",
            "...             ...           ...     ...    ...   ...     ...\n",
            "62695  ZAE000322095        NAMPAK      ZA     EM  2019   23.19\n",
            "62696  ZAE000322095        NAMPAK      ZA     EM  2020   29.18\n",
            "62697  ZAE000322095        NAMPAK      ZA     EM  2021   32.98\n",
            "62698  ZAE000322095        NAMPAK      ZA     EM  2022   32.27\n",
            "62699  ZAE000322095        NAMPAK      ZA     EM  2023   28.72\n",
            "\n",
            "[62700 rows x 6 columns]\n"
          ]
        }
      ],
      "source": [
        "Merged = pd.merge(Static , Escore, on=('NAME','ISIN'))\n",
        "print(Merged)"
      ]
    },
    {
      "cell_type": "code",
      "execution_count": 9,
      "metadata": {
        "id": "Idn_Guv77Zcb"
      },
      "outputs": [],
      "source": [
        "Merged = Merged[Merged['Region'] == 'PAC']"
      ]
    },
    {
      "cell_type": "code",
      "execution_count": 10,
      "metadata": {
        "colab": {
          "base_uri": "https://localhost:8080/"
        },
        "id": "eheIiWcK7nNM",
        "outputId": "e618c1ba-b3c3-48ae-c331-f4b1b6b65e82"
      },
      "outputs": [
        {
          "name": "stdout",
          "output_type": "stream",
          "text": [
            "<bound method NDFrame.head of                ISIN                          NAME Country Region  DATE  ESCORE\n",
            "425    AU000000ABC7  ADBRI DEAD - DELIST.02/07/24      AU    PAC  1999     NaN\n",
            "426    AU000000ABC7  ADBRI DEAD - DELIST.02/07/24      AU    PAC  2000     NaN\n",
            "427    AU000000ABC7  ADBRI DEAD - DELIST.02/07/24      AU    PAC  2001     NaN\n",
            "428    AU000000ABC7  ADBRI DEAD - DELIST.02/07/24      AU    PAC  2002     NaN\n",
            "429    AU000000ABC7  ADBRI DEAD - DELIST.02/07/24      AU    PAC  2003     NaN\n",
            "...             ...                           ...     ...    ...   ...     ...\n",
            "60070  US89677Q1076        TRIP COM GROUP ADR 1:1      SG    PAC  2019   41.10\n",
            "60071  US89677Q1076        TRIP COM GROUP ADR 1:1      SG    PAC  2020   44.19\n",
            "60072  US89677Q1076        TRIP COM GROUP ADR 1:1      SG    PAC  2021   40.79\n",
            "60073  US89677Q1076        TRIP COM GROUP ADR 1:1      SG    PAC  2022   43.66\n",
            "60074  US89677Q1076        TRIP COM GROUP ADR 1:1      SG    PAC  2023     NaN\n",
            "\n",
            "[12575 rows x 6 columns]>\n"
          ]
        }
      ],
      "source": [
        "print(Merged.head)"
      ]
    },
    {
      "cell_type": "code",
      "execution_count": 11,
      "metadata": {
        "colab": {
          "base_uri": "https://localhost:8080/"
        },
        "id": "hQKZwndc78Vp",
        "outputId": "a7f8cdf9-18f0-4c57-ab97-a3eef1de98e9"
      },
      "outputs": [
        {
          "name": "stdout",
          "output_type": "stream",
          "text": [
            "<class 'pandas.core.frame.DataFrame'>\n",
            "Index: 12575 entries, 425 to 60074\n",
            "Data columns (total 6 columns):\n",
            " #   Column   Non-Null Count  Dtype  \n",
            "---  ------   --------------  -----  \n",
            " 0   ISIN     12575 non-null  object \n",
            " 1   NAME     12575 non-null  object \n",
            " 2   Country  12575 non-null  object \n",
            " 3   Region   12575 non-null  object \n",
            " 4   DATE     12575 non-null  object \n",
            " 5   ESCORE   9337 non-null   float64\n",
            "dtypes: float64(1), object(5)\n",
            "memory usage: 687.7+ KB\n"
          ]
        }
      ],
      "source": [
        "Merged.info()"
      ]
    },
    {
      "cell_type": "code",
      "execution_count": 12,
      "metadata": {
        "colab": {
          "base_uri": "https://localhost:8080/"
        },
        "id": "IbnxjeJY87BW",
        "outputId": "5826ea9b-7cce-468a-83b0-552162b66fbe"
      },
      "outputs": [
        {
          "name": "stdout",
          "output_type": "stream",
          "text": [
            "425      ADBRI DEAD - DELIST.02/07/24\n",
            "426      ADBRI DEAD - DELIST.02/07/24\n",
            "427      ADBRI DEAD - DELIST.02/07/24\n",
            "428      ADBRI DEAD - DELIST.02/07/24\n",
            "429      ADBRI DEAD - DELIST.02/07/24\n",
            "                     ...             \n",
            "60057          TRIP COM GROUP ADR 1:1\n",
            "60058          TRIP COM GROUP ADR 1:1\n",
            "60059          TRIP COM GROUP ADR 1:1\n",
            "60060          TRIP COM GROUP ADR 1:1\n",
            "60074          TRIP COM GROUP ADR 1:1\n",
            "Name: NAME, Length: 3238, dtype: object\n"
          ]
        }
      ],
      "source": [
        "nan_companies = Merged[Merged['ESCORE'].isna()]['NAME']\n",
        "print(nan_companies)"
      ]
    },
    {
      "cell_type": "code",
      "execution_count": 13,
      "metadata": {
        "id": "OUQPIIgE-ESR"
      },
      "outputs": [],
      "source": [
        "Merged = Merged.dropna()\n"
      ]
    },
    {
      "cell_type": "code",
      "execution_count": 14,
      "metadata": {
        "colab": {
          "base_uri": "https://localhost:8080/"
        },
        "id": "sl-hcNs4-Ike",
        "outputId": "9e3426f2-3bc4-4cd0-eece-efafe97a2240"
      },
      "outputs": [
        {
          "name": "stdout",
          "output_type": "stream",
          "text": [
            "               ISIN                          NAME Country Region  DATE  ESCORE\n",
            "434    AU000000ABC7  ADBRI DEAD - DELIST.02/07/24      AU    PAC  2008   43.15\n",
            "435    AU000000ABC7  ADBRI DEAD - DELIST.02/07/24      AU    PAC  2009   38.27\n",
            "436    AU000000ABC7  ADBRI DEAD - DELIST.02/07/24      AU    PAC  2010   65.91\n",
            "437    AU000000ABC7  ADBRI DEAD - DELIST.02/07/24      AU    PAC  2011   60.10\n",
            "438    AU000000ABC7  ADBRI DEAD - DELIST.02/07/24      AU    PAC  2012   59.57\n",
            "...             ...                           ...     ...    ...   ...     ...\n",
            "60069  US89677Q1076        TRIP COM GROUP ADR 1:1      SG    PAC  2018    6.92\n",
            "60070  US89677Q1076        TRIP COM GROUP ADR 1:1      SG    PAC  2019   41.10\n",
            "60071  US89677Q1076        TRIP COM GROUP ADR 1:1      SG    PAC  2020   44.19\n",
            "60072  US89677Q1076        TRIP COM GROUP ADR 1:1      SG    PAC  2021   40.79\n",
            "60073  US89677Q1076        TRIP COM GROUP ADR 1:1      SG    PAC  2022   43.66\n",
            "\n",
            "[9337 rows x 6 columns]\n"
          ]
        }
      ],
      "source": [
        "print(Merged)"
      ]
    },
    {
      "cell_type": "code",
      "execution_count": 15,
      "metadata": {
        "colab": {
          "base_uri": "https://localhost:8080/"
        },
        "id": "FbJ_yHaH-_kp",
        "outputId": "2ce9cc41-2977-4e4a-f441-dfc2def8d97f"
      },
      "outputs": [
        {
          "name": "stdout",
          "output_type": "stream",
          "text": [
            "DATE\n",
            "2002    38.992857\n",
            "2003    44.229459\n",
            "2004    25.060284\n",
            "2005    25.501198\n",
            "2006    27.060121\n",
            "2007    33.752930\n",
            "2008    38.976818\n",
            "2009    40.002733\n",
            "2010    41.790657\n",
            "2011    43.283176\n",
            "2012    44.041168\n",
            "2013    44.094426\n",
            "2014    44.918241\n",
            "2015    47.374888\n",
            "2016    50.181687\n",
            "2017    52.602398\n",
            "2018    55.560588\n",
            "2019    58.830000\n",
            "2020    60.958800\n",
            "2021    62.894355\n",
            "2022    64.276986\n",
            "2023    64.588267\n",
            "Name: ESCORE, dtype: float64\n"
          ]
        }
      ],
      "source": [
        "cross_sectional_means = Merged.groupby('DATE')['ESCORE'].mean()\n",
        "print(cross_sectional_means)"
      ]
    },
    {
      "cell_type": "code",
      "execution_count": 16,
      "metadata": {
        "colab": {
          "base_uri": "https://localhost:8080/"
        },
        "id": "fSOnS9LC_bc0",
        "outputId": "1156184a-964e-42a3-80a3-6a0cfb5960c6"
      },
      "outputs": [
        {
          "name": "stdout",
          "output_type": "stream",
          "text": [
            "           mean  median   min    max        std\n",
            "DATE                                           \n",
            "2002  38.992857  40.310  0.00  85.67  26.962122\n",
            "2003  44.229459  45.370  0.00  89.75  26.476245\n",
            "2004  25.060284  21.375  0.00  93.79  26.189515\n",
            "2005  25.501198  23.610  0.00  98.10  25.900356\n",
            "2006  27.060121  23.630  0.00  99.10  25.591831\n",
            "2007  33.752930  30.795  0.00  98.53  27.114923\n",
            "2008  38.976818  39.575  0.00  96.12  27.776948\n",
            "2009  40.002733  40.295  0.00  97.60  28.141602\n",
            "2010  41.790657  42.650  0.00  97.13  29.058226\n",
            "2011  43.283176  46.200  0.00  95.02  28.337434\n",
            "2012  44.041168  47.185  0.00  92.53  28.006196\n",
            "2013  44.094426  47.365  0.00  93.77  27.805898\n",
            "2014  44.918241  48.070  0.00  96.25  27.667351\n",
            "2015  47.374888  50.350  0.00  95.28  27.405171\n",
            "2016  50.181687  53.925  0.00  95.52  26.563757\n",
            "2017  52.602398  56.865  0.00  96.13  26.199252\n",
            "2018  55.560588  60.100  0.00  96.53  25.262380\n",
            "2019  58.830000  63.990  0.00  98.21  23.992684\n",
            "2020  60.958800  65.435  0.00  97.41  23.319977\n",
            "2021  62.894355  66.740  0.00  98.10  22.179133\n",
            "2022  64.276986  68.620  0.00  97.70  20.521168\n",
            "2023  64.588267  68.340  1.06  98.21  20.491371\n"
          ]
        }
      ],
      "source": [
        "cross_sectional_stats = Merged.groupby('DATE')['ESCORE'].agg(['mean', 'median', 'min', 'max', 'std'])\n",
        "print(cross_sectional_stats)"
      ]
    },
    {
      "cell_type": "code",
      "execution_count": 17,
      "metadata": {
        "colab": {
          "base_uri": "https://localhost:8080/",
          "height": 472
        },
        "id": "0yzpckoO_u7s",
        "outputId": "1fb92aed-be23-41fc-8375-e61bae16cbc8"
      },
      "outputs": [
        {
          "data": {
            "image/png": "[encoded data removed]",
            "text/plain": [
              "<Figure size 640x480 with 1 Axes>"
            ]
          },
          "metadata": {},
          "output_type": "display_data"
        }
      ],
      "source": [
        "import matplotlib.pyplot as plt\n",
        "\n",
        "# Assuming 'Merged' is your DataFrame and 'ESCORE' is the column of interest\n",
        "plt.hist(Merged['ESCORE'], bins=20)  # Adjust 'bins' as needed\n",
        "plt.xlabel('ESCORE')\n",
        "plt.ylabel('Frequency')\n",
        "plt.title('Cross-Sectional Distribution of ESCORE')\n",
        "plt.show()"
      ]
    },
    {
      "cell_type": "markdown",
      "metadata": {
        "id": "tggpkXxGABn8"
      },
      "source": [
        "**Question 2**"
      ]
    },
    {
      "cell_type": "code",
      "execution_count": 18,
      "metadata": {},
      "outputs": [],
      "source": [
        "# ==============================================\n",
        "# STEP 1: Prepare monthly returns dataset again\n",
        "# (needed from assignment 1 exercise 3)\n",
        "# ==============================================\n",
        "from scipy.optimize import minimize\n",
        "\n",
        "\n",
        "url = \"https://github.com/gr-oll/susFin/blob/main/Data/DS_RI_USD_M.xlsx?raw=true\"\n",
        "monthly_returns = pd.read_excel(url)\n",
        "monthly_returns = monthly_returns.melt(id_vars=['NAME','ISIN'], var_name='DATE', value_name='monthly_return')\n",
        "monthly_returns['DATE'] = pd.to_datetime(monthly_returns['DATE'])\n",
        "\n",
        "# Filter firms from PAC region with ESG score available\n",
        "pac_companies = Merged['ISIN'].unique()\n",
        "monthly_returns = monthly_returns[monthly_returns['ISIN'].isin(pac_companies)]\n",
        "\n",
        "# Compute monthly pct returns by firm\n",
        "monthly_returns['pct_monthly_return'] = monthly_returns.groupby('ISIN')['monthly_return'].pct_change()\n",
        "monthly_returns.dropna(subset=['pct_monthly_return'], inplace=True)\n",
        "\n",
        "# Pivot returns dataframe\n",
        "returns_df = monthly_returns.pivot(index='DATE', columns='NAME', values='pct_monthly_return').dropna()\n"
      ]
    },
    {
      "cell_type": "code",
      "execution_count": 19,
      "metadata": {},
      "outputs": [
        {
          "name": "stdout",
          "output_type": "stream",
          "text": [
            "Normalized ESG scores per company (0-10):\n",
            " NAME\n",
            "77 BANK                                 2.605505\n",
            "A2B AUSTRALIA DEAD - DELIST.12/04/24    0.669725\n",
            "ABC-MART                                0.000000\n",
            "ACOM                                    2.605505\n",
            "ADBRI DEAD - DELIST.02/07/24            4.398573\n",
            "Name: ESCORE_normalized, dtype: float64\n"
          ]
        }
      ],
      "source": [
        "# ESG data reload clearly\n",
        "url = \"https://github.com/gr-oll/susFin/blob/main/Data/DS_EScore_Y.xlsx?raw=true\"\n",
        "Escore = pd.read_excel(url)\n",
        "\n",
        "# Melt ESG dataframe (long format)\n",
        "Escore = pd.melt(Escore, id_vars=['NAME', 'ISIN'], var_name='DATE', value_name='ESCORE')\n",
        "Escore['DATE'] = pd.to_datetime(Escore['DATE']).dt.year\n",
        "\n",
        "# Filter PAC companies only\n",
        "static_url = \"https://github.com/gr-oll/susFin/blob/main/Data/Static.xlsx?raw=true\"\n",
        "Static = pd.read_excel(static_url)\n",
        "pac_companies = Static[Static['Region'] == 'PAC']['ISIN'].unique()\n",
        "Escore = Escore[Escore['ISIN'].isin(pac_companies)]\n",
        "\n",
        "# Drop NaNs in ESG scores\n",
        "Escore.dropna(subset=['ESCORE'], inplace=True)\n",
        "\n",
        "# Remove duplicates if any\n",
        "Escore = Escore.drop_duplicates(subset=['NAME', 'DATE'])\n",
        "\n",
        "# Min-Max normalization of ESG scores to range 0-10\n",
        "ESG_min, ESG_max = Escore['ESCORE'].min(), Escore['ESCORE'].max()\n",
        "Escore['ESCORE_normalized'] = 10 * (Escore['ESCORE'] - ESG_min) / (ESG_max - ESG_min)\n",
        "\n",
        "# Compute average normalized ESG per company\n",
        "average_escore_normalized = Escore.groupby('NAME')['ESCORE_normalized'].mean()\n",
        "\n",
        "# Verify immediately:\n",
        "print(\"Normalized ESG scores per company (0-10):\\n\", average_escore_normalized.head())\n"
      ]
    },
    {
      "cell_type": "code",
      "execution_count": 20,
      "metadata": {},
      "outputs": [],
      "source": [
        "# Load monthly returns dataset\n",
        "url_returns = \"https://github.com/gr-oll/susFin/blob/main/Data/DS_RI_USD_M.xlsx?raw=true\"\n",
        "monthly_returns = pd.read_excel(url_returns)\n",
        "monthly_returns = monthly_returns.melt(id_vars=['NAME','ISIN'], var_name='DATE', value_name='monthly_return')\n",
        "monthly_returns['DATE'] = pd.to_datetime(monthly_returns['DATE'])\n",
        "\n",
        "# Load ESG annual dataset\n",
        "url_esg = \"https://github.com/gr-oll/susFin/blob/main/Data/DS_EScore_Y.xlsx?raw=true\"\n",
        "Escore = pd.read_excel(url_esg)\n",
        "Escore = pd.melt(Escore, id_vars=['NAME', 'ISIN'], var_name='DATE', value_name='ESCORE')\n",
        "Escore['DATE'] = pd.to_datetime(Escore['DATE']).dt.year\n",
        "\n",
        "# Load Static dataset to filter PAC region\n",
        "url_static = \"https://github.com/gr-oll/susFin/blob/main/Data/Static.xlsx?raw=true\"\n",
        "Static = pd.read_excel(url_static)\n",
        "pac_companies = Static[Static['Region'] == 'PAC']['ISIN'].unique()\n",
        "\n",
        "# === Step 2: Prepare ESG data (normalized 0-10 scale) ===\n",
        "Escore = Escore[Escore['ISIN'].isin(pac_companies)].dropna(subset=['ESCORE'])\n",
        "Escore = Escore.drop_duplicates(subset=['NAME', 'DATE'])\n",
        "\n",
        "# Min-max normalization of ESG scores (0-10)\n",
        "ESG_min, ESG_max = Escore['ESCORE'].min(), Escore['ESCORE'].max()\n",
        "Escore['ESCORE_normalized'] = 10 * (Escore['ESCORE'] - ESG_min) / (ESG_max - ESG_min)\n",
        "\n",
        "# Average ESG per firm\n",
        "average_escore_normalized = Escore.groupby('NAME')['ESCORE_normalized'].mean()\n",
        "\n",
        "# === Step 3: Prepare Returns data ===\n",
        "monthly_returns = monthly_returns[monthly_returns['ISIN'].isin(pac_companies)]\n",
        "monthly_returns['pct_monthly_return'] = monthly_returns.groupby('ISIN')['monthly_return'].pct_change()\n",
        "monthly_returns.dropna(subset=['pct_monthly_return'], inplace=True)\n",
        "\n",
        "# Pivot monthly returns\n",
        "returns_df = monthly_returns.pivot(index='DATE', columns='NAME', values='pct_monthly_return').dropna()\n",
        "\n",
        "# === Step 4: Compute annualized returns and covariance ===\n",
        "mean_returns_annual = returns_df.mean() * 12\n",
        "cov_matrix_annual = returns_df.cov() * 12\n",
        "num_assets = len(mean_returns_annual)\n"
      ]
    },
    {
      "cell_type": "code",
      "execution_count": 21,
      "metadata": {},
      "outputs": [],
      "source": [
        "\n",
        "# === Step 5: Efficient Frontier Calculation ===\n",
        "def portfolio_variance(weights, cov_matrix):\n",
        "    return weights.T @ cov_matrix @ weights\n",
        "\n",
        "def negative_portfolio_return(weights, returns):\n",
        "    return -weights @ returns\n",
        "\n",
        "init_guess = np.ones(num_assets) / num_assets\n",
        "bounds = tuple((0, 1) for _ in range(num_assets))\n",
        "constraints = {'type':'eq', 'fun': lambda x: np.sum(x)-1}\n",
        "\n",
        "# Min variance portfolio\n",
        "minvar_res = minimize(portfolio_variance, init_guess, args=(cov_matrix_annual,),\n",
        "                      method='SLSQP', bounds=bounds, constraints=constraints)\n",
        "minvar_ret = mean_returns_annual @ minvar_res.x\n",
        "\n",
        "# Max return portfolio\n",
        "maxret_res = minimize(negative_portfolio_return, init_guess, args=(mean_returns_annual,),\n",
        "                      method='SLSQP', bounds=bounds, constraints=constraints)\n",
        "maxret_ret = mean_returns_annual @ maxret_res.x\n",
        "\n",
        "# Efficient frontier portfolios\n",
        "n_portfolios = 15\n",
        "target_returns = np.linspace(minvar_ret, maxret_ret, n_portfolios)\n",
        "efficient_frontier_weights = []\n",
        "\n",
        "for target in target_returns:\n",
        "    constraints_ef = [\n",
        "        {'type':'eq', 'fun': lambda x: np.sum(x)-1},\n",
        "        {'type':'eq', 'fun': lambda x: x @ mean_returns_annual - target}\n",
        "    ]\n",
        "    res = minimize(portfolio_variance, init_guess, args=(cov_matrix_annual,),\n",
        "                   method='SLSQP', bounds=bounds, constraints=constraints_ef)\n",
        "    efficient_frontier_weights.append(res.x)\n"
      ]
    },
    {
      "cell_type": "code",
      "execution_count": 24,
      "metadata": {},
      "outputs": [
        {
          "data": {
            "image/png": "[encoded data removed]",
            "text/plain": [
              "<Figure size 1000x600 with 1 Axes>"
            ]
          },
          "metadata": {},
          "output_type": "display_data"
        },
        {
          "name": "stdout",
          "output_type": "stream",
          "text": [
            "Top 10 ESG-contributing firms:\n",
            "                     Company    Weight  ESG Score  Weighted ESG Impact\n",
            "130                  FUJITSU  0.117563   7.612640             0.894962\n",
            "141                GWA GROUP  0.064539   4.398573             0.283879\n",
            "268  MITSUBISHI UFJ FINL.GP.  0.090017   2.760449             0.248488\n",
            "132        FURUKAWA ELECTRIC  0.041683   3.802243             0.158488\n",
            "186                   ITOCHU  0.022042   4.005097             0.088280\n",
            "74         CITY DEVELOPMENTS  0.094649   0.552497             0.052294\n",
            "436              TAKARA HDG.  0.094053   0.377166             0.035473\n",
            "485               WESFARMERS  0.042475   0.800204             0.033989\n",
            "0                    77 BANK  0.000597   2.605505             0.001556\n",
            "166  HONG KONG AND CHINA GAS  0.001810   0.553517             0.001002\n"
          ]
        }
      ],
      "source": [
        "# === Step 6: Calculate Weighted-average ESG scores ===\n",
        "# Align the companies in returns_df with those in average_escore_normalized\n",
        "common_companies = returns_df.columns.intersection(average_escore_normalized.index)\n",
        "esg_scores_vector = average_escore_normalized.loc[common_companies].values\n",
        "\n",
        "# Adjust returns_df and efficient_frontier_weights to match the common companies\n",
        "returns_df = returns_df[common_companies]\n",
        "efficient_frontier_weights = [\n",
        "    weights[:len(common_companies)] for weights in efficient_frontier_weights\n",
        "]\n",
        "\n",
        "portfolio_esg_scores = [np.dot(weights, esg_scores_vector) for weights in efficient_frontier_weights]\n",
        "\n",
        "# === Step 7: Final ESG Frontier Plot ===\n",
        "esg_frontier_df = pd.DataFrame({\n",
        "    'Annualized Mean Return': target_returns,\n",
        "    'Portfolio ESG Score': portfolio_esg_scores\n",
        "})\n",
        "\n",
        "# Plot\n",
        "plt.figure(figsize=(10,6))\n",
        "plt.plot(esg_frontier_df['Portfolio ESG Score'], esg_frontier_df['Annualized Mean Return'],\n",
        "         marker='o', linestyle='-', color='green')\n",
        "plt.xlabel('Portfolio ESG Score (0-10)')\n",
        "plt.ylabel('Annualized Mean Return')\n",
        "plt.title('Corrected ESG Score vs Mean Return Efficient Frontier')\n",
        "plt.grid(True)\n",
        "plt.show()\n",
        "\n",
        "# === Optional Step 8: Top 10 ESG-contributing firms (mid-efficient portfolio) ===\n",
        "middle_weights = efficient_frontier_weights[len(efficient_frontier_weights)//2]\n",
        "top_contributors = pd.DataFrame({\n",
        "    'Company': returns_df.columns,\n",
        "    'Weight': middle_weights,\n",
        "    'ESG Score': esg_scores_vector,\n",
        "    'Weighted ESG Impact': middle_weights * esg_scores_vector\n",
        "}).sort_values('Weighted ESG Impact', ascending=False).head(10)\n",
        "\n",
        "print(\"Top 10 ESG-contributing firms:\")\n",
        "print(top_contributors)\n"
      ]
    }
  ],
  "metadata": {
    "colab": {
      "authorship_tag": "ABX9TyODYARcultn8it3sX+T/7zD",
      "include_colab_link": true,
      "provenance": []
    },
    "kernelspec": {
      "display_name": "venv",
      "language": "python",
      "name": "python3"
    },
    "language_info": {
      "codemirror_mode": {
        "name": "ipython",
        "version": 3
      },
      "file_extension": ".py",
      "mimetype": "text/x-python",
      "name": "python",
      "nbconvert_exporter": "python",
      "pygments_lexer": "ipython3",
      "version": "3.8.2"
    }
  },
  "nbformat": 4,
  "nbformat_minor": 0
}
