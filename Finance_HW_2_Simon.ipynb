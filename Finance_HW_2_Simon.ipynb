{
  "nbformat": 4,
  "nbformat_minor": 0,
  "metadata": {
    "colab": {
      "provenance": [],
      "authorship_tag": "ABX9TyM4cxFD8NtGoCSQrM5Jizoy",
      "include_colab_link": true
    },
    "kernelspec": {
      "name": "python3",
      "display_name": "Python 3"
    },
    "language_info": {
      "name": "python"
    }
  },
  "cells": [
    {
      "cell_type": "markdown",
      "metadata": {
        "id": "view-in-github",
        "colab_type": "text"
      },
      "source": [
        "<a href=\"https://colab.research.google.com/github/gr-oll/susFin/blob/main/Finance_HW_2_Simon.ipynb\" target=\"_parent\"><img src=\"https://colab.research.google.com/assets/colab-badge.svg\" alt=\"Open In Colab\"/></a>"
      ]
    },
    {
      "cell_type": "code",
      "execution_count": 32,
      "metadata": {
        "id": "dZ5I7FIv1tcV"
      },
      "outputs": [],
      "source": [
        "import pandas as pd\n",
        "import io\n",
        "import requests"
      ]
    },
    {
      "cell_type": "markdown",
      "source": [
        "**Exercise 1**"
      ],
      "metadata": {
        "id": "ZWd-pLhc2kpT"
      }
    },
    {
      "cell_type": "code",
      "source": [
        "url = \"https://github.com/gr-oll/susFin/blob/main/Data/Static.xlsx?raw=true\"\n",
        "response = requests.get(url)\n",
        "Static = pd.read_excel(io.BytesIO(response.content))"
      ],
      "metadata": {
        "id": "c4KXHnrY2cX-"
      },
      "execution_count": 33,
      "outputs": []
    },
    {
      "cell_type": "code",
      "source": [
        "Static = Static.rename(columns={'Name': 'NAME'})"
      ],
      "metadata": {
        "id": "4b5FhKfh3MoG"
      },
      "execution_count": 34,
      "outputs": []
    },
    {
      "cell_type": "code",
      "source": [
        "print(Static.head())\n"
      ],
      "metadata": {
        "colab": {
          "base_uri": "https://localhost:8080/"
        },
        "id": "sG8fcr6n2q29",
        "outputId": "7d600b2f-2f63-44dc-a731-55e74e60abb7"
      },
      "execution_count": 35,
      "outputs": [
        {
          "output_type": "stream",
          "name": "stdout",
          "text": [
            "           ISIN                                NAME Country Region\n",
            "0  AN8068571086                        SCHLUMBERGER      US   AMER\n",
            "1  ARALUA010258                               ALUAR      AR     EM\n",
            "2  ARP125991090                BANCO BBVA ARGENTINA      AR     EM\n",
            "3  ARSIDE010029  TERNIUM ARGENTINA SOCIEDAD ANONIMA      AR     EM\n",
            "4  AT000000STR1                          STRABAG SE      AT    EUR\n"
          ]
        }
      ]
    },
    {
      "cell_type": "code",
      "source": [
        "url = \"https://github.com/gr-oll/susFin/blob/main/Data/DS_EScore_Y.xlsx?raw=true\"\n",
        "response = requests.get(url)\n",
        "Escore = pd.read_excel(io.BytesIO(response.content))"
      ],
      "metadata": {
        "id": "USHfmB2t2tdo"
      },
      "execution_count": 36,
      "outputs": []
    },
    {
      "cell_type": "code",
      "source": [
        "Escore = pd.melt(Escore, id_vars=['NAME','ISIN'], var_name='DATE', value_name='ESCORE')"
      ],
      "metadata": {
        "id": "udDm7Gkk5UY_"
      },
      "execution_count": 37,
      "outputs": []
    },
    {
      "cell_type": "code",
      "source": [
        "print(Escore.head())"
      ],
      "metadata": {
        "colab": {
          "base_uri": "https://localhost:8080/"
        },
        "id": "D0iU8Xbn3FgU",
        "outputId": "afda0272-3da2-4801-e35d-0a107c3b1425"
      },
      "execution_count": 38,
      "outputs": [
        {
          "output_type": "stream",
          "name": "stdout",
          "text": [
            "                                 NAME          ISIN  DATE  ESCORE\n",
            "0                        SCHLUMBERGER  AN8068571086  1999     NaN\n",
            "1                               ALUAR  ARALUA010258  1999     NaN\n",
            "2                BANCO BBVA ARGENTINA  ARP125991090  1999     NaN\n",
            "3  TERNIUM ARGENTINA SOCIEDAD ANONIMA  ARSIDE010029  1999     NaN\n",
            "4                          STRABAG SE  AT000000STR1  1999     NaN\n"
          ]
        }
      ]
    },
    {
      "cell_type": "code",
      "source": [
        "Merged = pd.merge(Static , Escore, on=('NAME','ISIN'))\n",
        "print(Merged)"
      ],
      "metadata": {
        "colab": {
          "base_uri": "https://localhost:8080/"
        },
        "id": "kIXwtWUC4LYr",
        "outputId": "89279f6b-c479-4f9e-9dab-46f0f3636a92"
      },
      "execution_count": 39,
      "outputs": [
        {
          "output_type": "stream",
          "name": "stdout",
          "text": [
            "               ISIN          NAME Country Region  DATE  ESCORE\n",
            "0      AN8068571086  SCHLUMBERGER      US   AMER  1999     NaN\n",
            "1      AN8068571086  SCHLUMBERGER      US   AMER  2000     NaN\n",
            "2      AN8068571086  SCHLUMBERGER      US   AMER  2001     NaN\n",
            "3      AN8068571086  SCHLUMBERGER      US   AMER  2002   53.65\n",
            "4      AN8068571086  SCHLUMBERGER      US   AMER  2003   23.33\n",
            "...             ...           ...     ...    ...   ...     ...\n",
            "62695  ZAE000322095        NAMPAK      ZA     EM  2019   23.19\n",
            "62696  ZAE000322095        NAMPAK      ZA     EM  2020   29.18\n",
            "62697  ZAE000322095        NAMPAK      ZA     EM  2021   32.98\n",
            "62698  ZAE000322095        NAMPAK      ZA     EM  2022   32.27\n",
            "62699  ZAE000322095        NAMPAK      ZA     EM  2023   28.72\n",
            "\n",
            "[62700 rows x 6 columns]\n"
          ]
        }
      ]
    },
    {
      "cell_type": "code",
      "source": [
        "Merged = Merged[Merged['Region'] == 'PAC']"
      ],
      "metadata": {
        "id": "Idn_Guv77Zcb"
      },
      "execution_count": 40,
      "outputs": []
    },
    {
      "cell_type": "code",
      "source": [
        "print(Merged.head)"
      ],
      "metadata": {
        "colab": {
          "base_uri": "https://localhost:8080/"
        },
        "id": "eheIiWcK7nNM",
        "outputId": "5472e878-537d-433a-99f0-158c9533f15b"
      },
      "execution_count": 41,
      "outputs": [
        {
          "output_type": "stream",
          "name": "stdout",
          "text": [
            "<bound method NDFrame.head of                ISIN                          NAME Country Region  DATE  ESCORE\n",
            "425    AU000000ABC7  ADBRI DEAD - DELIST.02/07/24      AU    PAC  1999     NaN\n",
            "426    AU000000ABC7  ADBRI DEAD - DELIST.02/07/24      AU    PAC  2000     NaN\n",
            "427    AU000000ABC7  ADBRI DEAD - DELIST.02/07/24      AU    PAC  2001     NaN\n",
            "428    AU000000ABC7  ADBRI DEAD - DELIST.02/07/24      AU    PAC  2002     NaN\n",
            "429    AU000000ABC7  ADBRI DEAD - DELIST.02/07/24      AU    PAC  2003     NaN\n",
            "...             ...                           ...     ...    ...   ...     ...\n",
            "60070  US89677Q1076        TRIP COM GROUP ADR 1:1      SG    PAC  2019   41.10\n",
            "60071  US89677Q1076        TRIP COM GROUP ADR 1:1      SG    PAC  2020   44.19\n",
            "60072  US89677Q1076        TRIP COM GROUP ADR 1:1      SG    PAC  2021   40.79\n",
            "60073  US89677Q1076        TRIP COM GROUP ADR 1:1      SG    PAC  2022   43.66\n",
            "60074  US89677Q1076        TRIP COM GROUP ADR 1:1      SG    PAC  2023     NaN\n",
            "\n",
            "[12575 rows x 6 columns]>\n"
          ]
        }
      ]
    },
    {
      "cell_type": "code",
      "source": [
        "Merged = Merged[(Merged['DATE'] >= 2013) & (Merged['DATE']<= 2024)]"
      ],
      "metadata": {
        "id": "N6iTyncCHpdP"
      },
      "execution_count": 42,
      "outputs": []
    },
    {
      "cell_type": "code",
      "source": [
        "print(Merged)"
      ],
      "metadata": {
        "colab": {
          "base_uri": "https://localhost:8080/"
        },
        "id": "9ia2KQXqIQks",
        "outputId": "ea1a752e-ab0c-4920-fe23-f06e266cbda4"
      },
      "execution_count": 43,
      "outputs": [
        {
          "output_type": "stream",
          "name": "stdout",
          "text": [
            "               ISIN                          NAME Country Region  DATE  ESCORE\n",
            "439    AU000000ABC7  ADBRI DEAD - DELIST.02/07/24      AU    PAC  2013   61.76\n",
            "440    AU000000ABC7  ADBRI DEAD - DELIST.02/07/24      AU    PAC  2014   61.56\n",
            "441    AU000000ABC7  ADBRI DEAD - DELIST.02/07/24      AU    PAC  2015   58.22\n",
            "442    AU000000ABC7  ADBRI DEAD - DELIST.02/07/24      AU    PAC  2016   56.38\n",
            "443    AU000000ABC7  ADBRI DEAD - DELIST.02/07/24      AU    PAC  2017   58.51\n",
            "...             ...                           ...     ...    ...   ...     ...\n",
            "60070  US89677Q1076        TRIP COM GROUP ADR 1:1      SG    PAC  2019   41.10\n",
            "60071  US89677Q1076        TRIP COM GROUP ADR 1:1      SG    PAC  2020   44.19\n",
            "60072  US89677Q1076        TRIP COM GROUP ADR 1:1      SG    PAC  2021   40.79\n",
            "60073  US89677Q1076        TRIP COM GROUP ADR 1:1      SG    PAC  2022   43.66\n",
            "60074  US89677Q1076        TRIP COM GROUP ADR 1:1      SG    PAC  2023     NaN\n",
            "\n",
            "[5533 rows x 6 columns]\n"
          ]
        }
      ]
    },
    {
      "cell_type": "code",
      "source": [
        "Merged.info()"
      ],
      "metadata": {
        "colab": {
          "base_uri": "https://localhost:8080/"
        },
        "id": "hQKZwndc78Vp",
        "outputId": "987f8d9d-46e2-42c2-8520-30f24ed7105f"
      },
      "execution_count": 44,
      "outputs": [
        {
          "output_type": "stream",
          "name": "stdout",
          "text": [
            "<class 'pandas.core.frame.DataFrame'>\n",
            "Index: 5533 entries, 439 to 60074\n",
            "Data columns (total 6 columns):\n",
            " #   Column   Non-Null Count  Dtype  \n",
            "---  ------   --------------  -----  \n",
            " 0   ISIN     5533 non-null   object \n",
            " 1   NAME     5533 non-null   object \n",
            " 2   Country  5533 non-null   object \n",
            " 3   Region   5533 non-null   object \n",
            " 4   DATE     5533 non-null   object \n",
            " 5   ESCORE   5356 non-null   float64\n",
            "dtypes: float64(1), object(5)\n",
            "memory usage: 302.6+ KB\n"
          ]
        }
      ]
    },
    {
      "cell_type": "code",
      "source": [
        "nan_companies = Merged[Merged['ESCORE'].isna()]['NAME']"
      ],
      "metadata": {
        "id": "gToCvuSQFB29"
      },
      "execution_count": 45,
      "outputs": []
    },
    {
      "cell_type": "code",
      "source": [
        "print(nan_companies.unique())"
      ],
      "metadata": {
        "colab": {
          "base_uri": "https://localhost:8080/"
        },
        "id": "odVnMlB-IYu8",
        "outputId": "deb9ff33-fb07-4c22-fdce-1389aeddb3c0"
      },
      "execution_count": 46,
      "outputs": [
        {
          "output_type": "stream",
          "name": "stdout",
          "text": [
            "['ADBRI DEAD - DELIST.02/07/24' 'BENDIGO & ADELAIDE BANK'\n",
            " 'BORAL DEAD - DELIST.08/07/24' 'CIMIC GROUP DEAD - DELIST.11/05/22'\n",
            " 'ENERGY RES.OF AUS.' 'FLIGHT CENTRE TRAVEL GP.' 'GPT GROUP STAPLED UNITS'\n",
            " 'HILLS DEAD - DELIST.29/08/23' 'INVOCARE DEAD - DELIST.27/11/23'\n",
            " 'NEWCREST MINING DEAD - DELIST.08/11/23'\n",
            " 'OZ MINERALS DEAD - DELIST.03/05/23' 'ST BARBARA'\n",
            " 'SUNLAND GROUP DEAD - DELIST.30/10/23' 'OVATO DEAD - DELIST.29/08/22'\n",
            " 'AMPOL' 'WOODSIDE ENERGY GROUP' 'HUABAO INTL.HDG.' 'CTF SERVICES' 'PCCW'\n",
            " 'CATHAY PACIFIC AIRWAYS' 'SHANGHAI INDUSTRIAL HOLDINGS'\n",
            " 'DAH SING FINANCIAL HDG.' 'CHINA RESOURCES POWER' 'CHIN.PWR.INTDVT.'\n",
            " 'SEAGATE TECHNOLOGY HOLDINGS' 'NIPPON BUILDING FUND'\n",
            " 'JAPAN REAL ESTATE INV.' 'JAPAN METROPOLITAN FUND INVESTMENT REIT'\n",
            " 'JAPAN PRIME REALTY INV.' 'ASICS' 'ITO EN'\n",
            " 'ITOCHU TECHNO-SOLUTIONS DEAD - DELIST.01/12/23' 'ABC-MART' 'EBARA' 'KAO'\n",
            " 'CAPCOM' 'KYOWA KIRIN' 'KURARAY' 'KEISEI ELEC.RAILWAY' 'KEIKYU' 'KOSE'\n",
            " 'COCA-COLA BOTTLERS JAPAN HOLDINGS' 'CONCORDIA FINANCIAL GP.'\n",
            " 'SAPPORO HOLDINGS' 'SUNDRUG' 'SHIZUOKA FINANCIAL GROUP'\n",
            " 'SUMITOMO RUBBER INDS.' 'OSAKA TITANIUM' 'SUMITOMO ELECTRIC IND.'\n",
            " 'SEGA SAMMY HDG.' 'TAISEI' 'SCREEN HOLDINGS' 'THK' 'TERUMO'\n",
            " 'TOKYO STEEL MNFG.' 'TOKYO TATEMONO' 'TOSOH' 'TOBU RAILWAY' 'TOHO'\n",
            " 'TOYO SUISAN KAISHA' 'TOYOTA BOSHOKU' 'TREND MICRO' 'NICHIREI'\n",
            " 'NISSAN CHEMICAL' 'NISSIN FOODS HOLDINGS' 'NIPPON EXPRESS HOLDINGS'\n",
            " 'NISSUI' 'NHK SPRING' 'HAKUHODO DY HDG.'\n",
            " 'HITACHI METALS DEAD - DELIST.29/12/22' 'HITACHI CON.MCH.' 'KANADEVIA'\n",
            " 'HINO MOTORS' 'FURUKAWA' 'HOKUETSU' 'MABUCHI MOTOR' 'MISUMI GROUP'\n",
            " 'SUMITOMO MITSUI TRUST GROUP' 'ISETAN MITSUKOSHI HDG.' 'LY'\n",
            " 'YAMAZAKI BAKING' 'YAMATO KOGYO' 'YAMAHA MOTOR' 'ASMPT'\n",
            " 'LIFESTYLE INTL.HDG. DEAD - DELIST.21/12/22' 'WANT WANT CHINA HOLDINGS'\n",
            " 'GOLDEN AGRI-RESOURCES' 'AIR NEW ZEALAND'\n",
            " 'SINGAPORE PRESS HDG. DEAD - DELIST.13/05/22' 'KEPPEL' 'OUE'\n",
            " 'XP POWER (DI)' 'OLAM GROUP' 'TRIP COM GROUP ADR 1:1']\n"
          ]
        }
      ]
    },
    {
      "cell_type": "code",
      "source": [
        "deleate = nan_companies.unique()"
      ],
      "metadata": {
        "id": "3KQLVGR4FREa"
      },
      "execution_count": 47,
      "outputs": []
    },
    {
      "cell_type": "code",
      "source": [
        "Merged = Merged[~Merged['NAME'].isin(deleate)]"
      ],
      "metadata": {
        "id": "o0gYUd-aF7Dz"
      },
      "execution_count": 48,
      "outputs": []
    },
    {
      "cell_type": "code",
      "source": [
        "print(Merged.info())"
      ],
      "metadata": {
        "colab": {
          "base_uri": "https://localhost:8080/"
        },
        "id": "Wxf8bn3EF8bl",
        "outputId": "0f7307b0-ebfb-494f-ada0-887493c6e46d"
      },
      "execution_count": 49,
      "outputs": [
        {
          "output_type": "stream",
          "name": "stdout",
          "text": [
            "<class 'pandas.core.frame.DataFrame'>\n",
            "Index: 4499 entries, 464 to 42499\n",
            "Data columns (total 6 columns):\n",
            " #   Column   Non-Null Count  Dtype  \n",
            "---  ------   --------------  -----  \n",
            " 0   ISIN     4499 non-null   object \n",
            " 1   NAME     4499 non-null   object \n",
            " 2   Country  4499 non-null   object \n",
            " 3   Region   4499 non-null   object \n",
            " 4   DATE     4499 non-null   object \n",
            " 5   ESCORE   4499 non-null   float64\n",
            "dtypes: float64(1), object(5)\n",
            "memory usage: 246.0+ KB\n",
            "None\n"
          ]
        }
      ]
    },
    {
      "cell_type": "code",
      "source": [
        "num_unique_names = Merged['NAME'].nunique()\n",
        "print(f\"Number of unique names in Merged: {num_unique_names}\")"
      ],
      "metadata": {
        "colab": {
          "base_uri": "https://localhost:8080/"
        },
        "id": "FD5qq0gPU_5w",
        "outputId": "e881b10e-ead1-49fe-883c-e407960aa5f8"
      },
      "execution_count": 50,
      "outputs": [
        {
          "output_type": "stream",
          "name": "stdout",
          "text": [
            "Number of unique names in Merged: 409\n"
          ]
        }
      ]
    },
    {
      "cell_type": "code",
      "source": [
        "print(Merged.describe())"
      ],
      "metadata": {
        "colab": {
          "base_uri": "https://localhost:8080/"
        },
        "id": "sl-hcNs4-Ike",
        "outputId": "be569bd7-df09-4aed-c5cc-e2f69977e9cc"
      },
      "execution_count": 51,
      "outputs": [
        {
          "output_type": "stream",
          "name": "stdout",
          "text": [
            "            ESCORE\n",
            "count  4499.000000\n",
            "mean     56.802892\n",
            "std      25.366311\n",
            "min       0.000000\n",
            "25%      40.075000\n",
            "50%      61.730000\n",
            "75%      77.210000\n",
            "max      98.210000\n"
          ]
        }
      ]
    },
    {
      "cell_type": "code",
      "source": [
        "cross_sectional_means = Merged.groupby('DATE')['ESCORE'].mean()\n",
        "print(cross_sectional_means)"
      ],
      "metadata": {
        "colab": {
          "base_uri": "https://localhost:8080/"
        },
        "id": "FbJ_yHaH-_kp",
        "outputId": "abac15df-22f4-46cf-f73c-10e3262755bb"
      },
      "execution_count": 52,
      "outputs": [
        {
          "output_type": "stream",
          "name": "stdout",
          "text": [
            "DATE\n",
            "2013    46.373594\n",
            "2014    47.251320\n",
            "2015    49.710831\n",
            "2016    52.625428\n",
            "2017    54.382200\n",
            "2018    57.039389\n",
            "2019    60.218826\n",
            "2020    62.384719\n",
            "2021    64.344670\n",
            "2022    65.424303\n",
            "2023    65.076528\n",
            "Name: ESCORE, dtype: float64\n"
          ]
        }
      ]
    },
    {
      "cell_type": "code",
      "source": [
        "cross_sectional_stats = Merged.groupby('DATE')['ESCORE'].agg(['mean', 'median', 'min', 'max', 'std'])\n",
        "print(cross_sectional_stats)"
      ],
      "metadata": {
        "colab": {
          "base_uri": "https://localhost:8080/"
        },
        "id": "fSOnS9LC_bc0",
        "outputId": "f3a37ccb-e821-4ca9-96ba-7d4ded911700"
      },
      "execution_count": 53,
      "outputs": [
        {
          "output_type": "stream",
          "name": "stdout",
          "text": [
            "           mean  median   min    max        std\n",
            "DATE                                           \n",
            "2013  46.373594   49.36  0.00  93.77  27.413422\n",
            "2014  47.251320   50.10  0.00  96.25  27.284042\n",
            "2015  49.710831   53.41  0.00  95.28  26.891091\n",
            "2016  52.625428   57.22  0.00  95.52  25.981752\n",
            "2017  54.382200   59.95  0.00  96.13  25.645959\n",
            "2018  57.039389   62.10  0.00  96.53  24.810712\n",
            "2019  60.218826   65.60  0.00  98.21  23.678242\n",
            "2020  62.384719   67.39  0.00  97.41  22.930996\n",
            "2021  64.344670   68.83  0.00  98.10  21.755644\n",
            "2022  65.424303   69.97  3.43  97.70  20.631621\n",
            "2023  65.076528   68.77  1.06  98.21  20.578033\n"
          ]
        }
      ]
    },
    {
      "cell_type": "code",
      "source": [
        "cross_sectional_stats2 = Merged.groupby('NAME')['ESCORE'].agg(['mean', 'median', 'min', 'max', 'std'])\n",
        "print(cross_sectional_stats2)"
      ],
      "metadata": {
        "colab": {
          "base_uri": "https://localhost:8080/"
        },
        "id": "a9wB9W2SYglr",
        "outputId": "99952784-e901-43fd-d132-28aaae6f833c"
      },
      "execution_count": 54,
      "outputs": [
        {
          "output_type": "stream",
          "name": "stdout",
          "text": [
            "                                           mean  median    min    max  \\\n",
            "NAME                                                                    \n",
            "77 BANK                               30.783636   21.83  15.25  61.36   \n",
            "A2B AUSTRALIA DEAD - DELIST.12/04/24  16.228182   17.14   1.06  24.24   \n",
            "ACOM                                  24.194545   26.22  16.22  29.12   \n",
            "ADVANTEST                             83.044545   83.04  79.00  86.71   \n",
            "AEON                                  84.964545   88.00  71.00  92.15   \n",
            "...                                         ...     ...    ...    ...   \n",
            "YAMAHA                                59.066364   66.12  13.49  70.10   \n",
            "YAMATO HDG.                           43.613636   47.54  12.76  64.56   \n",
            "YOKOGAWA ELECTRIC                     79.676364   82.52  68.73  84.85   \n",
            "YUE YUEN INDL.HDG.                    28.368182   23.94   1.54  52.79   \n",
            "YUEXIU PROPERTY COMPANY               67.039091   76.96  25.47  85.79   \n",
            "\n",
            "                                            std  \n",
            "NAME                                             \n",
            "77 BANK                               19.026448  \n",
            "A2B AUSTRALIA DEAD - DELIST.12/04/24   5.885548  \n",
            "ACOM                                   4.755904  \n",
            "ADVANTEST                              2.163813  \n",
            "AEON                                   7.599770  \n",
            "...                                         ...  \n",
            "YAMAHA                                16.418189  \n",
            "YAMATO HDG.                           14.668484  \n",
            "YOKOGAWA ELECTRIC                      5.530418  \n",
            "YUE YUEN INDL.HDG.                    15.393346  \n",
            "YUEXIU PROPERTY COMPANY               20.335815  \n",
            "\n",
            "[409 rows x 5 columns]\n"
          ]
        }
      ]
    },
    {
      "cell_type": "code",
      "source": [
        "import matplotlib.pyplot as plt\n",
        "\n",
        "# Assuming 'Merged' is your DataFrame and 'ESCORE' is the column of interest\n",
        "plt.hist(cross_sectional_stats2['mean'], bins=11)  # Adjust 'bins' as needed\n",
        "plt.xlabel('ESCORE')\n",
        "plt.ylabel('Frequency')\n",
        "plt.title('Cross-Sectional Distribution of ESCORE')\n",
        "plt.show()"
      ],
      "metadata": {
        "colab": {
          "base_uri": "https://localhost:8080/",
          "height": 472
        },
        "id": "0yzpckoO_u7s",
        "outputId": "0ee1b4eb-8916-46c6-c97c-7e1d5b2e9d70"
      },
      "execution_count": 55,
      "outputs": [
        {
          "output_type": "display_data",
          "data": {
            "text/plain": [
              "<Figure size 640x480 with 1 Axes>"
            ],
            "image/png": "[encoded data removed]"
          },
          "metadata": {}
        }
      ]
    },
    {
      "cell_type": "code",
      "source": [
        "import matplotlib.pyplot as plt\n",
        "\n",
        "# Select the column you want to plot (e.g., 'mean')\n",
        "column_to_plot = 'mean'  # Change to 'median', 'min', 'max', or 'std' if needed\n",
        "\n",
        "# Create the histogram\n",
        "plt.hist(cross_sectional_stats[column_to_plot], bins=10)  # Adjust 'bins' as needed\n",
        "plt.title(f'Histogram of Cross-Sectional {column_to_plot.capitalize()} of ESCORE')\n",
        "plt.xlabel(column_to_plot.capitalize())\n",
        "plt.ylabel('Frequency')\n",
        "plt.show()"
      ],
      "metadata": {
        "colab": {
          "base_uri": "https://localhost:8080/",
          "height": 472
        },
        "id": "eRWyoaWRIYxf",
        "outputId": "f456bc4a-e419-413b-ba10-7c0d4fa17408"
      },
      "execution_count": 57,
      "outputs": [
        {
          "output_type": "display_data",
          "data": {
            "text/plain": [
              "<Figure size 640x480 with 1 Axes>"
            ],
            "image/png": "[encoded data removed]"
          },
          "metadata": {}
        }
      ]
    },
    {
      "cell_type": "markdown",
      "source": [
        "**Question 2**"
      ],
      "metadata": {
        "id": "tggpkXxGABn8"
      }
    }
  ]
}