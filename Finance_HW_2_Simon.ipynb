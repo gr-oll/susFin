{
  "nbformat": 4,
  "nbformat_minor": 0,
  "metadata": {
    "colab": {
      "provenance": [],
      "authorship_tag": "ABX9TyODYARcultn8it3sX+T/7zD",
      "include_colab_link": true
    },
    "kernelspec": {
      "name": "python3",
      "display_name": "Python 3"
    },
    "language_info": {
      "name": "python"
    }
  },
  "cells": [
    {
      "cell_type": "markdown",
      "metadata": {
        "id": "view-in-github",
        "colab_type": "text"
      },
      "source": [
        "<a href=\"https://colab.research.google.com/github/gr-oll/susFin/blob/main/Finance_HW_2_Simon.ipynb\" target=\"_parent\"><img src=\"https://colab.research.google.com/assets/colab-badge.svg\" alt=\"Open In Colab\"/></a>"
      ]
    },
    {
      "cell_type": "code",
      "execution_count": 224,
      "metadata": {
        "id": "dZ5I7FIv1tcV"
      },
      "outputs": [],
      "source": [
        "import pandas as pd\n",
        "import io\n",
        "import requests"
      ]
    },
    {
      "cell_type": "markdown",
      "source": [
        "**Exercise 1**"
      ],
      "metadata": {
        "id": "ZWd-pLhc2kpT"
      }
    },
    {
      "cell_type": "code",
      "source": [
        "url = \"https://github.com/gr-oll/susFin/blob/main/Data/Static.xlsx?raw=true\"\n",
        "response = requests.get(url)\n",
        "Static = pd.read_excel(io.BytesIO(response.content))"
      ],
      "metadata": {
        "id": "c4KXHnrY2cX-"
      },
      "execution_count": 225,
      "outputs": []
    },
    {
      "cell_type": "code",
      "source": [
        "Static = Static.rename(columns={'Name': 'NAME'})"
      ],
      "metadata": {
        "id": "4b5FhKfh3MoG"
      },
      "execution_count": 226,
      "outputs": []
    },
    {
      "cell_type": "code",
      "source": [
        "print(Static.head())\n"
      ],
      "metadata": {
        "colab": {
          "base_uri": "https://localhost:8080/"
        },
        "id": "sG8fcr6n2q29",
        "outputId": "d0563a23-a5d5-4697-ff16-fd7df7248915"
      },
      "execution_count": 227,
      "outputs": [
        {
          "output_type": "stream",
          "name": "stdout",
          "text": [
            "           ISIN                                NAME Country Region\n",
            "0  AN8068571086                        SCHLUMBERGER      US   AMER\n",
            "1  ARALUA010258                               ALUAR      AR     EM\n",
            "2  ARP125991090                BANCO BBVA ARGENTINA      AR     EM\n",
            "3  ARSIDE010029  TERNIUM ARGENTINA SOCIEDAD ANONIMA      AR     EM\n",
            "4  AT000000STR1                          STRABAG SE      AT    EUR\n"
          ]
        }
      ]
    },
    {
      "cell_type": "code",
      "source": [
        "url = \"https://github.com/gr-oll/susFin/blob/main/Data/DS_EScore_Y.xlsx?raw=true\"\n",
        "response = requests.get(url)\n",
        "Escore = pd.read_excel(io.BytesIO(response.content))"
      ],
      "metadata": {
        "id": "USHfmB2t2tdo"
      },
      "execution_count": 228,
      "outputs": []
    },
    {
      "cell_type": "code",
      "source": [
        "Escore = pd.melt(Escore, id_vars=['NAME','ISIN'], var_name='DATE', value_name='ESCORE')"
      ],
      "metadata": {
        "id": "udDm7Gkk5UY_"
      },
      "execution_count": 229,
      "outputs": []
    },
    {
      "cell_type": "code",
      "source": [
        "print(Escore.head())"
      ],
      "metadata": {
        "colab": {
          "base_uri": "https://localhost:8080/"
        },
        "id": "D0iU8Xbn3FgU",
        "outputId": "3ac62744-bf54-493e-8f00-3a0f2fc0ab41"
      },
      "execution_count": 230,
      "outputs": [
        {
          "output_type": "stream",
          "name": "stdout",
          "text": [
            "                                 NAME          ISIN  DATE  ESCORE\n",
            "0                        SCHLUMBERGER  AN8068571086  1999     NaN\n",
            "1                               ALUAR  ARALUA010258  1999     NaN\n",
            "2                BANCO BBVA ARGENTINA  ARP125991090  1999     NaN\n",
            "3  TERNIUM ARGENTINA SOCIEDAD ANONIMA  ARSIDE010029  1999     NaN\n",
            "4                          STRABAG SE  AT000000STR1  1999     NaN\n"
          ]
        }
      ]
    },
    {
      "cell_type": "code",
      "source": [
        "Merged = pd.merge(Static , Escore, on=('NAME','ISIN'))\n",
        "print(Merged)"
      ],
      "metadata": {
        "colab": {
          "base_uri": "https://localhost:8080/"
        },
        "id": "kIXwtWUC4LYr",
        "outputId": "bdb4297b-430c-4406-c859-bf5e67ab10d4"
      },
      "execution_count": 231,
      "outputs": [
        {
          "output_type": "stream",
          "name": "stdout",
          "text": [
            "               ISIN          NAME Country Region  DATE  ESCORE\n",
            "0      AN8068571086  SCHLUMBERGER      US   AMER  1999     NaN\n",
            "1      AN8068571086  SCHLUMBERGER      US   AMER  2000     NaN\n",
            "2      AN8068571086  SCHLUMBERGER      US   AMER  2001     NaN\n",
            "3      AN8068571086  SCHLUMBERGER      US   AMER  2002   53.65\n",
            "4      AN8068571086  SCHLUMBERGER      US   AMER  2003   23.33\n",
            "...             ...           ...     ...    ...   ...     ...\n",
            "62695  ZAE000322095        NAMPAK      ZA     EM  2019   23.19\n",
            "62696  ZAE000322095        NAMPAK      ZA     EM  2020   29.18\n",
            "62697  ZAE000322095        NAMPAK      ZA     EM  2021   32.98\n",
            "62698  ZAE000322095        NAMPAK      ZA     EM  2022   32.27\n",
            "62699  ZAE000322095        NAMPAK      ZA     EM  2023   28.72\n",
            "\n",
            "[62700 rows x 6 columns]\n"
          ]
        }
      ]
    },
    {
      "cell_type": "code",
      "source": [
        "Merged = Merged[Merged['Region'] == 'PAC']"
      ],
      "metadata": {
        "id": "Idn_Guv77Zcb"
      },
      "execution_count": 232,
      "outputs": []
    },
    {
      "cell_type": "code",
      "source": [
        "print(Merged.head)"
      ],
      "metadata": {
        "colab": {
          "base_uri": "https://localhost:8080/"
        },
        "id": "eheIiWcK7nNM",
        "outputId": "e618c1ba-b3c3-48ae-c331-f4b1b6b65e82"
      },
      "execution_count": 233,
      "outputs": [
        {
          "output_type": "stream",
          "name": "stdout",
          "text": [
            "<bound method NDFrame.head of                ISIN                          NAME Country Region  DATE  ESCORE\n",
            "425    AU000000ABC7  ADBRI DEAD - DELIST.02/07/24      AU    PAC  1999     NaN\n",
            "426    AU000000ABC7  ADBRI DEAD - DELIST.02/07/24      AU    PAC  2000     NaN\n",
            "427    AU000000ABC7  ADBRI DEAD - DELIST.02/07/24      AU    PAC  2001     NaN\n",
            "428    AU000000ABC7  ADBRI DEAD - DELIST.02/07/24      AU    PAC  2002     NaN\n",
            "429    AU000000ABC7  ADBRI DEAD - DELIST.02/07/24      AU    PAC  2003     NaN\n",
            "...             ...                           ...     ...    ...   ...     ...\n",
            "60070  US89677Q1076        TRIP COM GROUP ADR 1:1      SG    PAC  2019   41.10\n",
            "60071  US89677Q1076        TRIP COM GROUP ADR 1:1      SG    PAC  2020   44.19\n",
            "60072  US89677Q1076        TRIP COM GROUP ADR 1:1      SG    PAC  2021   40.79\n",
            "60073  US89677Q1076        TRIP COM GROUP ADR 1:1      SG    PAC  2022   43.66\n",
            "60074  US89677Q1076        TRIP COM GROUP ADR 1:1      SG    PAC  2023     NaN\n",
            "\n",
            "[12575 rows x 6 columns]>\n"
          ]
        }
      ]
    },
    {
      "cell_type": "code",
      "source": [
        "Merged.info()"
      ],
      "metadata": {
        "colab": {
          "base_uri": "https://localhost:8080/"
        },
        "id": "hQKZwndc78Vp",
        "outputId": "a7f8cdf9-18f0-4c57-ab97-a3eef1de98e9"
      },
      "execution_count": 234,
      "outputs": [
        {
          "output_type": "stream",
          "name": "stdout",
          "text": [
            "<class 'pandas.core.frame.DataFrame'>\n",
            "Index: 12575 entries, 425 to 60074\n",
            "Data columns (total 6 columns):\n",
            " #   Column   Non-Null Count  Dtype  \n",
            "---  ------   --------------  -----  \n",
            " 0   ISIN     12575 non-null  object \n",
            " 1   NAME     12575 non-null  object \n",
            " 2   Country  12575 non-null  object \n",
            " 3   Region   12575 non-null  object \n",
            " 4   DATE     12575 non-null  object \n",
            " 5   ESCORE   9337 non-null   float64\n",
            "dtypes: float64(1), object(5)\n",
            "memory usage: 687.7+ KB\n"
          ]
        }
      ]
    },
    {
      "cell_type": "code",
      "source": [
        "nan_companies = Merged[Merged['ESCORE'].isna()]['NAME']\n",
        "print(nan_companies)"
      ],
      "metadata": {
        "colab": {
          "base_uri": "https://localhost:8080/"
        },
        "id": "IbnxjeJY87BW",
        "outputId": "5826ea9b-7cce-468a-83b0-552162b66fbe"
      },
      "execution_count": 235,
      "outputs": [
        {
          "output_type": "stream",
          "name": "stdout",
          "text": [
            "425      ADBRI DEAD - DELIST.02/07/24\n",
            "426      ADBRI DEAD - DELIST.02/07/24\n",
            "427      ADBRI DEAD - DELIST.02/07/24\n",
            "428      ADBRI DEAD - DELIST.02/07/24\n",
            "429      ADBRI DEAD - DELIST.02/07/24\n",
            "                     ...             \n",
            "60057          TRIP COM GROUP ADR 1:1\n",
            "60058          TRIP COM GROUP ADR 1:1\n",
            "60059          TRIP COM GROUP ADR 1:1\n",
            "60060          TRIP COM GROUP ADR 1:1\n",
            "60074          TRIP COM GROUP ADR 1:1\n",
            "Name: NAME, Length: 3238, dtype: object\n"
          ]
        }
      ]
    },
    {
      "cell_type": "code",
      "source": [
        "Merged = Merged.dropna()\n"
      ],
      "metadata": {
        "id": "OUQPIIgE-ESR"
      },
      "execution_count": 236,
      "outputs": []
    },
    {
      "cell_type": "code",
      "source": [
        "print(Merged)"
      ],
      "metadata": {
        "colab": {
          "base_uri": "https://localhost:8080/"
        },
        "id": "sl-hcNs4-Ike",
        "outputId": "9e3426f2-3bc4-4cd0-eece-efafe97a2240"
      },
      "execution_count": 237,
      "outputs": [
        {
          "output_type": "stream",
          "name": "stdout",
          "text": [
            "               ISIN                          NAME Country Region  DATE  ESCORE\n",
            "434    AU000000ABC7  ADBRI DEAD - DELIST.02/07/24      AU    PAC  2008   43.15\n",
            "435    AU000000ABC7  ADBRI DEAD - DELIST.02/07/24      AU    PAC  2009   38.27\n",
            "436    AU000000ABC7  ADBRI DEAD - DELIST.02/07/24      AU    PAC  2010   65.91\n",
            "437    AU000000ABC7  ADBRI DEAD - DELIST.02/07/24      AU    PAC  2011   60.10\n",
            "438    AU000000ABC7  ADBRI DEAD - DELIST.02/07/24      AU    PAC  2012   59.57\n",
            "...             ...                           ...     ...    ...   ...     ...\n",
            "60069  US89677Q1076        TRIP COM GROUP ADR 1:1      SG    PAC  2018    6.92\n",
            "60070  US89677Q1076        TRIP COM GROUP ADR 1:1      SG    PAC  2019   41.10\n",
            "60071  US89677Q1076        TRIP COM GROUP ADR 1:1      SG    PAC  2020   44.19\n",
            "60072  US89677Q1076        TRIP COM GROUP ADR 1:1      SG    PAC  2021   40.79\n",
            "60073  US89677Q1076        TRIP COM GROUP ADR 1:1      SG    PAC  2022   43.66\n",
            "\n",
            "[9337 rows x 6 columns]\n"
          ]
        }
      ]
    },
    {
      "cell_type": "code",
      "source": [
        "cross_sectional_means = Merged.groupby('DATE')['ESCORE'].mean()\n",
        "print(cross_sectional_means)"
      ],
      "metadata": {
        "colab": {
          "base_uri": "https://localhost:8080/"
        },
        "id": "FbJ_yHaH-_kp",
        "outputId": "2ce9cc41-2977-4e4a-f441-dfc2def8d97f"
      },
      "execution_count": 238,
      "outputs": [
        {
          "output_type": "stream",
          "name": "stdout",
          "text": [
            "DATE\n",
            "2002    38.992857\n",
            "2003    44.229459\n",
            "2004    25.060284\n",
            "2005    25.501198\n",
            "2006    27.060121\n",
            "2007    33.752930\n",
            "2008    38.976818\n",
            "2009    40.002733\n",
            "2010    41.790657\n",
            "2011    43.283176\n",
            "2012    44.041168\n",
            "2013    44.094426\n",
            "2014    44.918241\n",
            "2015    47.374888\n",
            "2016    50.181687\n",
            "2017    52.602398\n",
            "2018    55.560588\n",
            "2019    58.830000\n",
            "2020    60.958800\n",
            "2021    62.894355\n",
            "2022    64.276986\n",
            "2023    64.588267\n",
            "Name: ESCORE, dtype: float64\n"
          ]
        }
      ]
    },
    {
      "cell_type": "code",
      "source": [
        "cross_sectional_stats = Merged.groupby('DATE')['ESCORE'].agg(['mean', 'median', 'min', 'max', 'std'])\n",
        "print(cross_sectional_stats)"
      ],
      "metadata": {
        "colab": {
          "base_uri": "https://localhost:8080/"
        },
        "id": "fSOnS9LC_bc0",
        "outputId": "1156184a-964e-42a3-80a3-6a0cfb5960c6"
      },
      "execution_count": 239,
      "outputs": [
        {
          "output_type": "stream",
          "name": "stdout",
          "text": [
            "           mean  median   min    max        std\n",
            "DATE                                           \n",
            "2002  38.992857  40.310  0.00  85.67  26.962122\n",
            "2003  44.229459  45.370  0.00  89.75  26.476245\n",
            "2004  25.060284  21.375  0.00  93.79  26.189515\n",
            "2005  25.501198  23.610  0.00  98.10  25.900356\n",
            "2006  27.060121  23.630  0.00  99.10  25.591831\n",
            "2007  33.752930  30.795  0.00  98.53  27.114923\n",
            "2008  38.976818  39.575  0.00  96.12  27.776948\n",
            "2009  40.002733  40.295  0.00  97.60  28.141602\n",
            "2010  41.790657  42.650  0.00  97.13  29.058226\n",
            "2011  43.283176  46.200  0.00  95.02  28.337434\n",
            "2012  44.041168  47.185  0.00  92.53  28.006196\n",
            "2013  44.094426  47.365  0.00  93.77  27.805898\n",
            "2014  44.918241  48.070  0.00  96.25  27.667351\n",
            "2015  47.374888  50.350  0.00  95.28  27.405171\n",
            "2016  50.181687  53.925  0.00  95.52  26.563757\n",
            "2017  52.602398  56.865  0.00  96.13  26.199252\n",
            "2018  55.560588  60.100  0.00  96.53  25.262380\n",
            "2019  58.830000  63.990  0.00  98.21  23.992684\n",
            "2020  60.958800  65.435  0.00  97.41  23.319977\n",
            "2021  62.894355  66.740  0.00  98.10  22.179133\n",
            "2022  64.276986  68.620  0.00  97.70  20.521168\n",
            "2023  64.588267  68.340  1.06  98.21  20.491371\n"
          ]
        }
      ]
    },
    {
      "cell_type": "code",
      "source": [
        "import matplotlib.pyplot as plt\n",
        "\n",
        "# Assuming 'Merged' is your DataFrame and 'ESCORE' is the column of interest\n",
        "plt.hist(Merged['ESCORE'], bins=20)  # Adjust 'bins' as needed\n",
        "plt.xlabel('ESCORE')\n",
        "plt.ylabel('Frequency')\n",
        "plt.title('Cross-Sectional Distribution of ESCORE')\n",
        "plt.show()"
      ],
      "metadata": {
        "colab": {
          "base_uri": "https://localhost:8080/",
          "height": 472
        },
        "id": "0yzpckoO_u7s",
        "outputId": "1fb92aed-be23-41fc-8375-e61bae16cbc8"
      },
      "execution_count": 240,
      "outputs": [
        {
          "output_type": "display_data",
          "data": {
            "text/plain": [
              "<Figure size 640x480 with 1 Axes>"
            ],
            "image/png": "[encoded data removed]"
          },
          "metadata": {}
        }
      ]
    },
    {
      "cell_type": "markdown",
      "source": [
        "**Question 2**"
      ],
      "metadata": {
        "id": "tggpkXxGABn8"
      }
    }
  ]
}