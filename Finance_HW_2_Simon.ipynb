{
  "nbformat": 4,
  "nbformat_minor": 0,
  "metadata": {
    "colab": {
      "provenance": [],
      "authorship_tag": "ABX9TyPYFBdcHzjFzRN5LN1m9xUK",
      "include_colab_link": true
    },
    "kernelspec": {
      "name": "python3",
      "display_name": "Python 3"
    },
    "language_info": {
      "name": "python"
    }
  },
  "cells": [
    {
      "cell_type": "markdown",
      "metadata": {
        "id": "view-in-github",
        "colab_type": "text"
      },
      "source": [
        "<a href=\"https://colab.research.google.com/github/gr-oll/susFin/blob/main/Finance_HW_2_Simon.ipynb\" target=\"_parent\"><img src=\"https://colab.research.google.com/assets/colab-badge.svg\" alt=\"Open In Colab\"/></a>"
      ]
    },
    {
      "cell_type": "code",
      "execution_count": 196,
      "metadata": {
        "id": "dZ5I7FIv1tcV"
      },
      "outputs": [],
      "source": [
        "import pandas as pd\n",
        "import io\n",
        "import requests"
      ]
    },
    {
      "cell_type": "markdown",
      "source": [
        "**Exercise 1**"
      ],
      "metadata": {
        "id": "ZWd-pLhc2kpT"
      }
    },
    {
      "cell_type": "code",
      "source": [
        "url = \"https://github.com/gr-oll/susFin/blob/main/Data/Static.xlsx?raw=true\"\n",
        "response = requests.get(url)\n",
        "Static = pd.read_excel(io.BytesIO(response.content))"
      ],
      "metadata": {
        "id": "c4KXHnrY2cX-"
      },
      "execution_count": 197,
      "outputs": []
    },
    {
      "cell_type": "code",
      "source": [
        "Static = Static.rename(columns={'Name': 'NAME'})"
      ],
      "metadata": {
        "id": "4b5FhKfh3MoG"
      },
      "execution_count": 198,
      "outputs": []
    },
    {
      "cell_type": "code",
      "source": [
        "print(Static.head())\n"
      ],
      "metadata": {
        "colab": {
          "base_uri": "https://localhost:8080/"
        },
        "id": "sG8fcr6n2q29",
        "outputId": "d2dcf95c-917c-40d8-f55d-fcb52131fa53"
      },
      "execution_count": 199,
      "outputs": [
        {
          "output_type": "stream",
          "name": "stdout",
          "text": [
            "           ISIN                                NAME Country Region\n",
            "0  AN8068571086                        SCHLUMBERGER      US   AMER\n",
            "1  ARALUA010258                               ALUAR      AR     EM\n",
            "2  ARP125991090                BANCO BBVA ARGENTINA      AR     EM\n",
            "3  ARSIDE010029  TERNIUM ARGENTINA SOCIEDAD ANONIMA      AR     EM\n",
            "4  AT000000STR1                          STRABAG SE      AT    EUR\n"
          ]
        }
      ]
    },
    {
      "cell_type": "code",
      "source": [
        "url = \"https://github.com/gr-oll/susFin/blob/main/Data/DS_EScore_Y.xlsx?raw=true\"\n",
        "response = requests.get(url)\n",
        "Escore = pd.read_excel(io.BytesIO(response.content))"
      ],
      "metadata": {
        "id": "USHfmB2t2tdo"
      },
      "execution_count": 200,
      "outputs": []
    },
    {
      "cell_type": "code",
      "source": [
        "Escore = pd.melt(Escore, id_vars=['NAME','ISIN'], var_name='DATE', value_name='ESCORE')"
      ],
      "metadata": {
        "id": "udDm7Gkk5UY_"
      },
      "execution_count": 201,
      "outputs": []
    },
    {
      "cell_type": "code",
      "source": [
        "print(Escore.head())"
      ],
      "metadata": {
        "colab": {
          "base_uri": "https://localhost:8080/"
        },
        "id": "D0iU8Xbn3FgU",
        "outputId": "ece34fb5-c6a4-49b7-f1e5-8d6f1d0e24a3"
      },
      "execution_count": 202,
      "outputs": [
        {
          "output_type": "stream",
          "name": "stdout",
          "text": [
            "                                 NAME          ISIN  DATE  ESCORE\n",
            "0                        SCHLUMBERGER  AN8068571086  1999     NaN\n",
            "1                               ALUAR  ARALUA010258  1999     NaN\n",
            "2                BANCO BBVA ARGENTINA  ARP125991090  1999     NaN\n",
            "3  TERNIUM ARGENTINA SOCIEDAD ANONIMA  ARSIDE010029  1999     NaN\n",
            "4                          STRABAG SE  AT000000STR1  1999     NaN\n"
          ]
        }
      ]
    },
    {
      "cell_type": "code",
      "source": [
        "Merged = pd.merge(Static , Escore, on=('NAME','ISIN'))\n",
        "print(Merged)"
      ],
      "metadata": {
        "colab": {
          "base_uri": "https://localhost:8080/"
        },
        "id": "kIXwtWUC4LYr",
        "outputId": "9cec667c-6517-49e5-f6ea-1f2a16156a95"
      },
      "execution_count": 203,
      "outputs": [
        {
          "output_type": "stream",
          "name": "stdout",
          "text": [
            "               ISIN          NAME Country Region  DATE  ESCORE\n",
            "0      AN8068571086  SCHLUMBERGER      US   AMER  1999     NaN\n",
            "1      AN8068571086  SCHLUMBERGER      US   AMER  2000     NaN\n",
            "2      AN8068571086  SCHLUMBERGER      US   AMER  2001     NaN\n",
            "3      AN8068571086  SCHLUMBERGER      US   AMER  2002   53.65\n",
            "4      AN8068571086  SCHLUMBERGER      US   AMER  2003   23.33\n",
            "...             ...           ...     ...    ...   ...     ...\n",
            "62695  ZAE000322095        NAMPAK      ZA     EM  2019   23.19\n",
            "62696  ZAE000322095        NAMPAK      ZA     EM  2020   29.18\n",
            "62697  ZAE000322095        NAMPAK      ZA     EM  2021   32.98\n",
            "62698  ZAE000322095        NAMPAK      ZA     EM  2022   32.27\n",
            "62699  ZAE000322095        NAMPAK      ZA     EM  2023   28.72\n",
            "\n",
            "[62700 rows x 6 columns]\n"
          ]
        }
      ]
    },
    {
      "cell_type": "code",
      "source": [
        "Merged = Merged[Merged['Region'] == 'PAC']"
      ],
      "metadata": {
        "id": "Idn_Guv77Zcb"
      },
      "execution_count": 204,
      "outputs": []
    },
    {
      "cell_type": "code",
      "source": [
        "print(Merged.head)"
      ],
      "metadata": {
        "colab": {
          "base_uri": "https://localhost:8080/"
        },
        "id": "eheIiWcK7nNM",
        "outputId": "e6e47f20-4915-431e-ee22-25d69f96b330"
      },
      "execution_count": 205,
      "outputs": [
        {
          "output_type": "stream",
          "name": "stdout",
          "text": [
            "<bound method NDFrame.head of                ISIN                          NAME Country Region  DATE  ESCORE\n",
            "425    AU000000ABC7  ADBRI DEAD - DELIST.02/07/24      AU    PAC  1999     NaN\n",
            "426    AU000000ABC7  ADBRI DEAD - DELIST.02/07/24      AU    PAC  2000     NaN\n",
            "427    AU000000ABC7  ADBRI DEAD - DELIST.02/07/24      AU    PAC  2001     NaN\n",
            "428    AU000000ABC7  ADBRI DEAD - DELIST.02/07/24      AU    PAC  2002     NaN\n",
            "429    AU000000ABC7  ADBRI DEAD - DELIST.02/07/24      AU    PAC  2003     NaN\n",
            "...             ...                           ...     ...    ...   ...     ...\n",
            "60070  US89677Q1076        TRIP COM GROUP ADR 1:1      SG    PAC  2019   41.10\n",
            "60071  US89677Q1076        TRIP COM GROUP ADR 1:1      SG    PAC  2020   44.19\n",
            "60072  US89677Q1076        TRIP COM GROUP ADR 1:1      SG    PAC  2021   40.79\n",
            "60073  US89677Q1076        TRIP COM GROUP ADR 1:1      SG    PAC  2022   43.66\n",
            "60074  US89677Q1076        TRIP COM GROUP ADR 1:1      SG    PAC  2023     NaN\n",
            "\n",
            "[12575 rows x 6 columns]>\n"
          ]
        }
      ]
    },
    {
      "cell_type": "code",
      "source": [
        "Merged = Merged[(Merged['DATE'] >= 2013) & (Merged['DATE']<= 2024)]"
      ],
      "metadata": {
        "id": "N6iTyncCHpdP"
      },
      "execution_count": 206,
      "outputs": []
    },
    {
      "cell_type": "code",
      "source": [
        "print(Merged)"
      ],
      "metadata": {
        "colab": {
          "base_uri": "https://localhost:8080/"
        },
        "id": "9ia2KQXqIQks",
        "outputId": "feba5e95-e231-4971-ed72-105c942903d2"
      },
      "execution_count": 207,
      "outputs": [
        {
          "output_type": "stream",
          "name": "stdout",
          "text": [
            "               ISIN                          NAME Country Region  DATE  ESCORE\n",
            "439    AU000000ABC7  ADBRI DEAD - DELIST.02/07/24      AU    PAC  2013   61.76\n",
            "440    AU000000ABC7  ADBRI DEAD - DELIST.02/07/24      AU    PAC  2014   61.56\n",
            "441    AU000000ABC7  ADBRI DEAD - DELIST.02/07/24      AU    PAC  2015   58.22\n",
            "442    AU000000ABC7  ADBRI DEAD - DELIST.02/07/24      AU    PAC  2016   56.38\n",
            "443    AU000000ABC7  ADBRI DEAD - DELIST.02/07/24      AU    PAC  2017   58.51\n",
            "...             ...                           ...     ...    ...   ...     ...\n",
            "60070  US89677Q1076        TRIP COM GROUP ADR 1:1      SG    PAC  2019   41.10\n",
            "60071  US89677Q1076        TRIP COM GROUP ADR 1:1      SG    PAC  2020   44.19\n",
            "60072  US89677Q1076        TRIP COM GROUP ADR 1:1      SG    PAC  2021   40.79\n",
            "60073  US89677Q1076        TRIP COM GROUP ADR 1:1      SG    PAC  2022   43.66\n",
            "60074  US89677Q1076        TRIP COM GROUP ADR 1:1      SG    PAC  2023     NaN\n",
            "\n",
            "[5533 rows x 6 columns]\n"
          ]
        }
      ]
    },
    {
      "cell_type": "code",
      "source": [
        "Merged.info()"
      ],
      "metadata": {
        "colab": {
          "base_uri": "https://localhost:8080/"
        },
        "id": "hQKZwndc78Vp",
        "outputId": "92324267-fe98-4b85-ef3e-165f8bd3e816"
      },
      "execution_count": 208,
      "outputs": [
        {
          "output_type": "stream",
          "name": "stdout",
          "text": [
            "<class 'pandas.core.frame.DataFrame'>\n",
            "Index: 5533 entries, 439 to 60074\n",
            "Data columns (total 6 columns):\n",
            " #   Column   Non-Null Count  Dtype  \n",
            "---  ------   --------------  -----  \n",
            " 0   ISIN     5533 non-null   object \n",
            " 1   NAME     5533 non-null   object \n",
            " 2   Country  5533 non-null   object \n",
            " 3   Region   5533 non-null   object \n",
            " 4   DATE     5533 non-null   object \n",
            " 5   ESCORE   5356 non-null   float64\n",
            "dtypes: float64(1), object(5)\n",
            "memory usage: 302.6+ KB\n"
          ]
        }
      ]
    },
    {
      "cell_type": "code",
      "source": [
        "nan_companies = Merged[Merged['ESCORE'].isna()]['NAME']"
      ],
      "metadata": {
        "id": "gToCvuSQFB29"
      },
      "execution_count": 209,
      "outputs": []
    },
    {
      "cell_type": "code",
      "source": [
        "print(nan_companies.unique())"
      ],
      "metadata": {
        "colab": {
          "base_uri": "https://localhost:8080/"
        },
        "id": "odVnMlB-IYu8",
        "outputId": "962fdbdb-02ce-48ab-ae5c-afb78ab8a9fd"
      },
      "execution_count": 210,
      "outputs": [
        {
          "output_type": "stream",
          "name": "stdout",
          "text": [
            "['ADBRI DEAD - DELIST.02/07/24' 'BENDIGO & ADELAIDE BANK'\n",
            " 'BORAL DEAD - DELIST.08/07/24' 'CIMIC GROUP DEAD - DELIST.11/05/22'\n",
            " 'ENERGY RES.OF AUS.' 'FLIGHT CENTRE TRAVEL GP.' 'GPT GROUP STAPLED UNITS'\n",
            " 'HILLS DEAD - DELIST.29/08/23' 'INVOCARE DEAD - DELIST.27/11/23'\n",
            " 'NEWCREST MINING DEAD - DELIST.08/11/23'\n",
            " 'OZ MINERALS DEAD - DELIST.03/05/23' 'ST BARBARA'\n",
            " 'SUNLAND GROUP DEAD - DELIST.30/10/23' 'OVATO DEAD - DELIST.29/08/22'\n",
            " 'AMPOL' 'WOODSIDE ENERGY GROUP' 'HUABAO INTL.HDG.' 'CTF SERVICES' 'PCCW'\n",
            " 'CATHAY PACIFIC AIRWAYS' 'SHANGHAI INDUSTRIAL HOLDINGS'\n",
            " 'DAH SING FINANCIAL HDG.' 'CHINA RESOURCES POWER' 'CHIN.PWR.INTDVT.'\n",
            " 'SEAGATE TECHNOLOGY HOLDINGS' 'NIPPON BUILDING FUND'\n",
            " 'JAPAN REAL ESTATE INV.' 'JAPAN METROPOLITAN FUND INVESTMENT REIT'\n",
            " 'JAPAN PRIME REALTY INV.' 'ASICS' 'ITO EN'\n",
            " 'ITOCHU TECHNO-SOLUTIONS DEAD - DELIST.01/12/23' 'ABC-MART' 'EBARA' 'KAO'\n",
            " 'CAPCOM' 'KYOWA KIRIN' 'KURARAY' 'KEISEI ELEC.RAILWAY' 'KEIKYU' 'KOSE'\n",
            " 'COCA-COLA BOTTLERS JAPAN HOLDINGS' 'CONCORDIA FINANCIAL GP.'\n",
            " 'SAPPORO HOLDINGS' 'SUNDRUG' 'SHIZUOKA FINANCIAL GROUP'\n",
            " 'SUMITOMO RUBBER INDS.' 'OSAKA TITANIUM' 'SUMITOMO ELECTRIC IND.'\n",
            " 'SEGA SAMMY HDG.' 'TAISEI' 'SCREEN HOLDINGS' 'THK' 'TERUMO'\n",
            " 'TOKYO STEEL MNFG.' 'TOKYO TATEMONO' 'TOSOH' 'TOBU RAILWAY' 'TOHO'\n",
            " 'TOYO SUISAN KAISHA' 'TOYOTA BOSHOKU' 'TREND MICRO' 'NICHIREI'\n",
            " 'NISSAN CHEMICAL' 'NISSIN FOODS HOLDINGS' 'NIPPON EXPRESS HOLDINGS'\n",
            " 'NISSUI' 'NHK SPRING' 'HAKUHODO DY HDG.'\n",
            " 'HITACHI METALS DEAD - DELIST.29/12/22' 'HITACHI CON.MCH.' 'KANADEVIA'\n",
            " 'HINO MOTORS' 'FURUKAWA' 'HOKUETSU' 'MABUCHI MOTOR' 'MISUMI GROUP'\n",
            " 'SUMITOMO MITSUI TRUST GROUP' 'ISETAN MITSUKOSHI HDG.' 'LY'\n",
            " 'YAMAZAKI BAKING' 'YAMATO KOGYO' 'YAMAHA MOTOR' 'ASMPT'\n",
            " 'LIFESTYLE INTL.HDG. DEAD - DELIST.21/12/22' 'WANT WANT CHINA HOLDINGS'\n",
            " 'GOLDEN AGRI-RESOURCES' 'AIR NEW ZEALAND'\n",
            " 'SINGAPORE PRESS HDG. DEAD - DELIST.13/05/22' 'KEPPEL' 'OUE'\n",
            " 'XP POWER (DI)' 'OLAM GROUP' 'TRIP COM GROUP ADR 1:1']\n"
          ]
        }
      ]
    },
    {
      "cell_type": "code",
      "source": [
        "deleate = nan_companies.unique()"
      ],
      "metadata": {
        "id": "3KQLVGR4FREa"
      },
      "execution_count": 211,
      "outputs": []
    },
    {
      "cell_type": "code",
      "source": [
        "Merged = Merged[~Merged['NAME'].isin(deleate)]"
      ],
      "metadata": {
        "id": "o0gYUd-aF7Dz"
      },
      "execution_count": 212,
      "outputs": []
    },
    {
      "cell_type": "code",
      "source": [
        "print(Merged.info())"
      ],
      "metadata": {
        "colab": {
          "base_uri": "https://localhost:8080/"
        },
        "id": "Wxf8bn3EF8bl",
        "outputId": "08a43d05-4f56-49a4-a65a-9cafd91bfd4e"
      },
      "execution_count": 213,
      "outputs": [
        {
          "output_type": "stream",
          "name": "stdout",
          "text": [
            "<class 'pandas.core.frame.DataFrame'>\n",
            "Index: 4499 entries, 464 to 42499\n",
            "Data columns (total 6 columns):\n",
            " #   Column   Non-Null Count  Dtype  \n",
            "---  ------   --------------  -----  \n",
            " 0   ISIN     4499 non-null   object \n",
            " 1   NAME     4499 non-null   object \n",
            " 2   Country  4499 non-null   object \n",
            " 3   Region   4499 non-null   object \n",
            " 4   DATE     4499 non-null   object \n",
            " 5   ESCORE   4499 non-null   float64\n",
            "dtypes: float64(1), object(5)\n",
            "memory usage: 246.0+ KB\n",
            "None\n"
          ]
        }
      ]
    },
    {
      "cell_type": "code",
      "source": [
        "num_unique_names = Merged['NAME'].nunique()\n",
        "print(f\"Number of unique names in Merged: {num_unique_names}\")"
      ],
      "metadata": {
        "colab": {
          "base_uri": "https://localhost:8080/"
        },
        "id": "FD5qq0gPU_5w",
        "outputId": "a66c0a8c-6fad-406d-c49d-fd9630777542"
      },
      "execution_count": 217,
      "outputs": [
        {
          "output_type": "stream",
          "name": "stdout",
          "text": [
            "Number of unique names in Merged: 409\n"
          ]
        }
      ]
    },
    {
      "cell_type": "code",
      "source": [
        "print(Merged.describe())"
      ],
      "metadata": {
        "colab": {
          "base_uri": "https://localhost:8080/"
        },
        "id": "sl-hcNs4-Ike",
        "outputId": "3a68d6b6-6b26-4b33-f3de-b7748536ff2d"
      },
      "execution_count": 219,
      "outputs": [
        {
          "output_type": "stream",
          "name": "stdout",
          "text": [
            "            ESCORE\n",
            "count  4499.000000\n",
            "mean     56.802892\n",
            "std      25.366311\n",
            "min       0.000000\n",
            "25%      40.075000\n",
            "50%      61.730000\n",
            "75%      77.210000\n",
            "max      98.210000\n"
          ]
        }
      ]
    },
    {
      "cell_type": "code",
      "source": [
        "cross_sectional_means = Merged.groupby('DATE')['ESCORE'].mean()\n",
        "print(cross_sectional_means)"
      ],
      "metadata": {
        "colab": {
          "base_uri": "https://localhost:8080/"
        },
        "id": "FbJ_yHaH-_kp",
        "outputId": "59d2339f-77e1-4a81-ce69-d09f5ac09693"
      },
      "execution_count": 220,
      "outputs": [
        {
          "output_type": "stream",
          "name": "stdout",
          "text": [
            "DATE\n",
            "2013    46.373594\n",
            "2014    47.251320\n",
            "2015    49.710831\n",
            "2016    52.625428\n",
            "2017    54.382200\n",
            "2018    57.039389\n",
            "2019    60.218826\n",
            "2020    62.384719\n",
            "2021    64.344670\n",
            "2022    65.424303\n",
            "2023    65.076528\n",
            "Name: ESCORE, dtype: float64\n"
          ]
        }
      ]
    },
    {
      "cell_type": "code",
      "source": [
        "cross_sectional_stats = Merged.groupby('DATE')['ESCORE'].agg(['mean', 'median', 'min', 'max', 'std'])\n",
        "print(cross_sectional_stats)"
      ],
      "metadata": {
        "colab": {
          "base_uri": "https://localhost:8080/"
        },
        "id": "fSOnS9LC_bc0",
        "outputId": "2c502aa1-ab2f-4405-9386-eb71dc8a8742"
      },
      "execution_count": 221,
      "outputs": [
        {
          "output_type": "stream",
          "name": "stdout",
          "text": [
            "           mean  median   min    max        std\n",
            "DATE                                           \n",
            "2013  46.373594   49.36  0.00  93.77  27.413422\n",
            "2014  47.251320   50.10  0.00  96.25  27.284042\n",
            "2015  49.710831   53.41  0.00  95.28  26.891091\n",
            "2016  52.625428   57.22  0.00  95.52  25.981752\n",
            "2017  54.382200   59.95  0.00  96.13  25.645959\n",
            "2018  57.039389   62.10  0.00  96.53  24.810712\n",
            "2019  60.218826   65.60  0.00  98.21  23.678242\n",
            "2020  62.384719   67.39  0.00  97.41  22.930996\n",
            "2021  64.344670   68.83  0.00  98.10  21.755644\n",
            "2022  65.424303   69.97  3.43  97.70  20.631621\n",
            "2023  65.076528   68.77  1.06  98.21  20.578033\n"
          ]
        }
      ]
    },
    {
      "cell_type": "code",
      "source": [
        "import matplotlib.pyplot as plt\n",
        "\n",
        "# Assuming 'Merged' is your DataFrame and 'ESCORE' is the column of interest\n",
        "plt.hist(Merged['ESCORE'], bins=11)  # Adjust 'bins' as needed\n",
        "plt.xlabel('ESCORE')\n",
        "plt.ylabel('Frequency')\n",
        "plt.title('Cross-Sectional Distribution of ESCORE')\n",
        "plt.show()"
      ],
      "metadata": {
        "colab": {
          "base_uri": "https://localhost:8080/",
          "height": 472
        },
        "id": "0yzpckoO_u7s",
        "outputId": "aa69f2cb-5216-4cbb-d301-50e4b14c4074"
      },
      "execution_count": 224,
      "outputs": [
        {
          "output_type": "display_data",
          "data": {
            "text/plain": [
              "<Figure size 640x480 with 1 Axes>"
            ],
            "image/png": "[encoded data removed]"
          },
          "metadata": {}
        }
      ]
    },
    {
      "cell_type": "markdown",
      "source": [
        "**Question 2**"
      ],
      "metadata": {
        "id": "tggpkXxGABn8"
      }
    },
    {
      "cell_type": "code",
      "source": [
        "# Filepath init\n",
        "filepath = 'https://github.com/gr-oll/susFin/raw/refs/heads/main/Data/'"
      ],
      "metadata": {
        "id": "KgVnfXPHOx8d"
      },
      "execution_count": 183,
      "outputs": []
    },
    {
      "cell_type": "code",
      "source": [
        "# Extracting the country-region dataset and merging it to the previous one\n",
        "static = pd.read_excel(filepath + 'Static.xlsx')\n",
        "df_ex1 = pd.merge(monthly_return_melted, static, on=['Name','ISIN'], how='outer')"
      ],
      "metadata": {
        "id": "2rHzBj3ZO6c_"
      },
      "execution_count": 184,
      "outputs": []
    },
    {
      "cell_type": "code",
      "source": [
        "# Filtering by non missing escores (2013-2024) complete dataset to allow comparisons\n",
        "escore = pd.read_excel(filepath + 'DS_EScore_Y.xlsx')\n",
        "melted_escore = escore.melt(id_vars=[\"NAME\", \"ISIN\"], var_name=\"year\", value_name=\"escore\")\n",
        "melted_escore.rename(columns={'NAME': 'Name'}, inplace=True)\n",
        "melted_escore['year'] = pd.to_datetime(melted_escore['year'], format='%Y')\n",
        "escore_interest = pd.merge(melted_escore, static, how='outer')\n",
        "escore_interest = escore_interest[(escore_interest['year'] >= '2013-01-01') & (melted_escore['year'] <= '2024-12-31')]\n",
        "escore_interest = escore_interest[escore_interest['Region'] == 'PAC']"
      ],
      "metadata": {
        "id": "Tyis3SEsOqeM"
      },
      "execution_count": 185,
      "outputs": []
    },
    {
      "cell_type": "code",
      "source": [
        "filtered = escore_interest.groupby('ISIN')['escore'].count().reset_index()\n",
        "filtered = filtered[filtered['escore'] == 11]"
      ],
      "metadata": {
        "id": "fdBwZ7gwOxa-"
      },
      "execution_count": 186,
      "outputs": []
    },
    {
      "cell_type": "code",
      "source": [
        "print(filtered)"
      ],
      "metadata": {
        "colab": {
          "base_uri": "https://localhost:8080/"
        },
        "id": "kARKddboPGHq",
        "outputId": "32718c54-ba40-4509-8e28-7293fac66284"
      },
      "execution_count": 187,
      "outputs": [
        {
          "output_type": "stream",
          "name": "stdout",
          "text": [
            "             ISIN  escore\n",
            "1    AU000000ALL7      11\n",
            "2    AU000000AMP6      11\n",
            "3    AU000000ANN9      11\n",
            "4    AU000000ANZ3      11\n",
            "5    AU000000APA1      11\n",
            "..            ...     ...\n",
            "493  SG1T75931496      11\n",
            "495  SG1V61937297      11\n",
            "497  SG9999000020      11\n",
            "499  SGXE21576413      11\n",
            "500  SGXE34184239      11\n",
            "\n",
            "[409 rows x 2 columns]\n"
          ]
        }
      ]
    },
    {
      "cell_type": "code",
      "source": [
        "interest_companies = filtered['ISIN'].tolist()"
      ],
      "metadata": {
        "id": "kZyLFD7OPcc_"
      },
      "execution_count": 188,
      "outputs": []
    },
    {
      "cell_type": "code",
      "source": [
        "print(escore_interest.describe())"
      ],
      "metadata": {
        "colab": {
          "base_uri": "https://localhost:8080/"
        },
        "id": "rD0A_oK7Q1-U",
        "outputId": "784f069e-514d-4cba-e73c-094f48604354"
      },
      "execution_count": 189,
      "outputs": [
        {
          "output_type": "stream",
          "name": "stdout",
          "text": [
            "                                year       escore\n",
            "count                           5533  5356.000000\n",
            "mean   2017-12-31 21:49:05.454545408    55.033236\n",
            "min              2013-01-01 00:00:00     0.000000\n",
            "25%              2015-01-01 00:00:00    38.010000\n",
            "50%              2018-01-01 00:00:00    59.780000\n",
            "75%              2021-01-01 00:00:00    75.832500\n",
            "max              2023-01-01 00:00:00    98.210000\n",
            "std                              NaN    25.889745\n"
          ]
        }
      ]
    },
    {
      "cell_type": "code",
      "source": [
        "print(escore_interest['Name'].describe())"
      ],
      "metadata": {
        "colab": {
          "base_uri": "https://localhost:8080/"
        },
        "id": "ttRgi0WePdZA",
        "outputId": "e005f0ae-8aae-4f72-ee23-16eaf9bf928b"
      },
      "execution_count": 190,
      "outputs": [
        {
          "output_type": "stream",
          "name": "stdout",
          "text": [
            "count                        5533\n",
            "unique                        503\n",
            "top       YUEXIU PROPERTY COMPANY\n",
            "freq                           11\n",
            "Name: Name, dtype: object\n"
          ]
        }
      ]
    },
    {
      "cell_type": "code",
      "source": [
        "escore_interest.isna().any()"
      ],
      "metadata": {
        "colab": {
          "base_uri": "https://localhost:8080/",
          "height": 269
        },
        "id": "bfIOuGspSjCa",
        "outputId": "0fd52177-2c99-4f6f-ed90-445bb475281b"
      },
      "execution_count": 191,
      "outputs": [
        {
          "output_type": "execute_result",
          "data": {
            "text/plain": [
              "Name       False\n",
              "ISIN       False\n",
              "year       False\n",
              "escore      True\n",
              "Country    False\n",
              "Region     False\n",
              "dtype: bool"
            ],
            "text/html": [
              "<div>\n",
              "<style scoped>\n",
              "    .dataframe tbody tr th:only-of-type {\n",
              "        vertical-align: middle;\n",
              "    }\n",
              "\n",
              "    .dataframe tbody tr th {\n",
              "        vertical-align: top;\n",
              "    }\n",
              "\n",
              "    .dataframe thead th {\n",
              "        text-align: right;\n",
              "    }\n",
              "</style>\n",
              "<table border=\"1\" class=\"dataframe\">\n",
              "  <thead>\n",
              "    <tr style=\"text-align: right;\">\n",
              "      <th></th>\n",
              "      <th>0</th>\n",
              "    </tr>\n",
              "  </thead>\n",
              "  <tbody>\n",
              "    <tr>\n",
              "      <th>Name</th>\n",
              "      <td>False</td>\n",
              "    </tr>\n",
              "    <tr>\n",
              "      <th>ISIN</th>\n",
              "      <td>False</td>\n",
              "    </tr>\n",
              "    <tr>\n",
              "      <th>year</th>\n",
              "      <td>False</td>\n",
              "    </tr>\n",
              "    <tr>\n",
              "      <th>escore</th>\n",
              "      <td>True</td>\n",
              "    </tr>\n",
              "    <tr>\n",
              "      <th>Country</th>\n",
              "      <td>False</td>\n",
              "    </tr>\n",
              "    <tr>\n",
              "      <th>Region</th>\n",
              "      <td>False</td>\n",
              "    </tr>\n",
              "  </tbody>\n",
              "</table>\n",
              "</div><br><label><b>dtype:</b> bool</label>"
            ]
          },
          "metadata": {},
          "execution_count": 191
        }
      ]
    },
    {
      "cell_type": "code",
      "source": [
        "escore_interest.isnull().sum()"
      ],
      "metadata": {
        "colab": {
          "base_uri": "https://localhost:8080/",
          "height": 269
        },
        "id": "DNlxshMDSlPz",
        "outputId": "c53458eb-8a64-430e-f37b-9e7928dad1c1"
      },
      "execution_count": 192,
      "outputs": [
        {
          "output_type": "execute_result",
          "data": {
            "text/plain": [
              "Name         0\n",
              "ISIN         0\n",
              "year         0\n",
              "escore     177\n",
              "Country      0\n",
              "Region       0\n",
              "dtype: int64"
            ],
            "text/html": [
              "<div>\n",
              "<style scoped>\n",
              "    .dataframe tbody tr th:only-of-type {\n",
              "        vertical-align: middle;\n",
              "    }\n",
              "\n",
              "    .dataframe tbody tr th {\n",
              "        vertical-align: top;\n",
              "    }\n",
              "\n",
              "    .dataframe thead th {\n",
              "        text-align: right;\n",
              "    }\n",
              "</style>\n",
              "<table border=\"1\" class=\"dataframe\">\n",
              "  <thead>\n",
              "    <tr style=\"text-align: right;\">\n",
              "      <th></th>\n",
              "      <th>0</th>\n",
              "    </tr>\n",
              "  </thead>\n",
              "  <tbody>\n",
              "    <tr>\n",
              "      <th>Name</th>\n",
              "      <td>0</td>\n",
              "    </tr>\n",
              "    <tr>\n",
              "      <th>ISIN</th>\n",
              "      <td>0</td>\n",
              "    </tr>\n",
              "    <tr>\n",
              "      <th>year</th>\n",
              "      <td>0</td>\n",
              "    </tr>\n",
              "    <tr>\n",
              "      <th>escore</th>\n",
              "      <td>177</td>\n",
              "    </tr>\n",
              "    <tr>\n",
              "      <th>Country</th>\n",
              "      <td>0</td>\n",
              "    </tr>\n",
              "    <tr>\n",
              "      <th>Region</th>\n",
              "      <td>0</td>\n",
              "    </tr>\n",
              "  </tbody>\n",
              "</table>\n",
              "</div><br><label><b>dtype:</b> int64</label>"
            ]
          },
          "metadata": {},
          "execution_count": 192
        }
      ]
    },
    {
      "cell_type": "code",
      "source": [
        "import numpy as np\n",
        "\n",
        "# Find rows with NaN values\n",
        "nan_rows = escore_interest[escore_interest.isna().any(axis=1)]\n",
        "\n",
        "# Print rows and column names with NaN values\n",
        "for index, row in nan_rows.iterrows():\n",
        "    nan_cols = row[row.isna()].index.tolist()\n",
        "    print(f\"Row {index}: NaN values in columns {nan_cols}\")"
      ],
      "metadata": {
        "colab": {
          "base_uri": "https://localhost:8080/"
        },
        "id": "oa6G19EaSr5t",
        "outputId": "bfa6597d-f51d-4242-849a-53a310fd8fbd"
      },
      "execution_count": 193,
      "outputs": [
        {
          "output_type": "stream",
          "name": "stdout",
          "text": [
            "Row 299: NaN values in columns ['escore']\n",
            "Row 724: NaN values in columns ['escore']\n",
            "Row 1514: NaN values in columns ['escore']\n",
            "Row 1515: NaN values in columns ['escore']\n",
            "Row 2900: NaN values in columns ['escore']\n",
            "Row 4126: NaN values in columns ['escore']\n",
            "Row 4176: NaN values in columns ['escore']\n",
            "Row 7179: NaN values in columns ['escore']\n",
            "Row 8105: NaN values in columns ['escore']\n",
            "Row 9520: NaN values in columns ['escore']\n",
            "Row 9521: NaN values in columns ['escore']\n",
            "Row 9522: NaN values in columns ['escore']\n",
            "Row 9523: NaN values in columns ['escore']\n",
            "Row 9524: NaN values in columns ['escore']\n",
            "Row 9525: NaN values in columns ['escore']\n",
            "Row 10055: NaN values in columns ['escore']\n",
            "Row 11046: NaN values in columns ['escore']\n",
            "Row 11556: NaN values in columns ['escore']\n",
            "Row 12282: NaN values in columns ['escore']\n",
            "Row 12283: NaN values in columns ['escore']\n",
            "Row 13234: NaN values in columns ['escore']\n",
            "Row 13899: NaN values in columns ['escore']\n",
            "Row 13900: NaN values in columns ['escore']\n",
            "Row 13901: NaN values in columns ['escore']\n",
            "Row 13902: NaN values in columns ['escore']\n",
            "Row 14932: NaN values in columns ['escore']\n",
            "Row 15176: NaN values in columns ['escore']\n",
            "Row 15177: NaN values in columns ['escore']\n",
            "Row 15178: NaN values in columns ['escore']\n",
            "Row 15179: NaN values in columns ['escore']\n",
            "Row 15180: NaN values in columns ['escore']\n",
            "Row 15181: NaN values in columns ['escore']\n",
            "Row 17488: NaN values in columns ['escore']\n",
            "Row 18539: NaN values in columns ['escore']\n",
            "Row 20814: NaN values in columns ['escore']\n",
            "Row 21781: NaN values in columns ['escore']\n",
            "Row 21782: NaN values in columns ['escore']\n",
            "Row 21783: NaN values in columns ['escore']\n",
            "Row 21784: NaN values in columns ['escore']\n",
            "Row 21785: NaN values in columns ['escore']\n",
            "Row 21786: NaN values in columns ['escore']\n",
            "Row 21787: NaN values in columns ['escore']\n",
            "Row 21791: NaN values in columns ['escore']\n",
            "Row 23114: NaN values in columns ['escore']\n",
            "Row 23116: NaN values in columns ['escore']\n",
            "Row 23241: NaN values in columns ['escore']\n",
            "Row 24216: NaN values in columns ['escore']\n",
            "Row 25743: NaN values in columns ['escore']\n",
            "Row 25892: NaN values in columns ['escore']\n",
            "Row 25893: NaN values in columns ['escore']\n",
            "Row 26018: NaN values in columns ['escore']\n",
            "Row 26042: NaN values in columns ['escore']\n",
            "Row 26043: NaN values in columns ['escore']\n",
            "Row 26184: NaN values in columns ['escore']\n",
            "Row 26185: NaN values in columns ['escore']\n",
            "Row 26186: NaN values in columns ['escore']\n",
            "Row 26187: NaN values in columns ['escore']\n",
            "Row 26188: NaN values in columns ['escore']\n",
            "Row 26189: NaN values in columns ['escore']\n",
            "Row 26190: NaN values in columns ['escore']\n",
            "Row 26191: NaN values in columns ['escore']\n",
            "Row 26192: NaN values in columns ['escore']\n",
            "Row 26920: NaN values in columns ['escore']\n",
            "Row 29045: NaN values in columns ['escore']\n",
            "Row 29195: NaN values in columns ['escore']\n",
            "Row 29370: NaN values in columns ['escore']\n",
            "Row 29420: NaN values in columns ['escore']\n",
            "Row 29695: NaN values in columns ['escore']\n",
            "Row 29696: NaN values in columns ['escore']\n",
            "Row 29744: NaN values in columns ['escore']\n",
            "Row 29745: NaN values in columns ['escore']\n",
            "Row 29746: NaN values in columns ['escore']\n",
            "Row 29770: NaN values in columns ['escore']\n",
            "Row 29771: NaN values in columns ['escore']\n",
            "Row 30537: NaN values in columns ['escore']\n",
            "Row 30538: NaN values in columns ['escore']\n",
            "Row 30539: NaN values in columns ['escore']\n",
            "Row 30540: NaN values in columns ['escore']\n",
            "Row 30541: NaN values in columns ['escore']\n",
            "Row 30542: NaN values in columns ['escore']\n",
            "Row 30543: NaN values in columns ['escore']\n",
            "Row 30544: NaN values in columns ['escore']\n",
            "Row 30545: NaN values in columns ['escore']\n",
            "Row 30672: NaN values in columns ['escore']\n",
            "Row 30918: NaN values in columns ['escore']\n",
            "Row 30972: NaN values in columns ['escore']\n",
            "Row 31072: NaN values in columns ['escore']\n",
            "Row 32248: NaN values in columns ['escore']\n",
            "Row 32549: NaN values in columns ['escore']\n",
            "Row 32624: NaN values in columns ['escore']\n",
            "Row 33573: NaN values in columns ['escore']\n",
            "Row 33574: NaN values in columns ['escore']\n",
            "Row 34400: NaN values in columns ['escore']\n",
            "Row 34500: NaN values in columns ['escore']\n",
            "Row 36718: NaN values in columns ['escore']\n",
            "Row 36719: NaN values in columns ['escore']\n",
            "Row 36720: NaN values in columns ['escore']\n",
            "Row 38805: NaN values in columns ['escore']\n",
            "Row 39080: NaN values in columns ['escore']\n",
            "Row 39155: NaN values in columns ['escore']\n",
            "Row 39279: NaN values in columns ['escore']\n",
            "Row 39280: NaN values in columns ['escore']\n",
            "Row 39330: NaN values in columns ['escore']\n",
            "Row 39532: NaN values in columns ['escore']\n",
            "Row 39632: NaN values in columns ['escore']\n",
            "Row 39647: NaN values in columns ['escore']\n",
            "Row 39648: NaN values in columns ['escore']\n",
            "Row 39649: NaN values in columns ['escore']\n",
            "Row 39650: NaN values in columns ['escore']\n",
            "Row 39651: NaN values in columns ['escore']\n",
            "Row 39652: NaN values in columns ['escore']\n",
            "Row 39653: NaN values in columns ['escore']\n",
            "Row 41124: NaN values in columns ['escore']\n",
            "Row 41125: NaN values in columns ['escore']\n",
            "Row 41126: NaN values in columns ['escore']\n",
            "Row 41127: NaN values in columns ['escore']\n",
            "Row 41128: NaN values in columns ['escore']\n",
            "Row 41129: NaN values in columns ['escore']\n",
            "Row 41130: NaN values in columns ['escore']\n",
            "Row 41131: NaN values in columns ['escore']\n",
            "Row 41132: NaN values in columns ['escore']\n",
            "Row 41134: NaN values in columns ['escore']\n",
            "Row 41884: NaN values in columns ['escore']\n",
            "Row 41974: NaN values in columns ['escore']\n",
            "Row 41975: NaN values in columns ['escore']\n",
            "Row 41976: NaN values in columns ['escore']\n",
            "Row 41977: NaN values in columns ['escore']\n",
            "Row 41978: NaN values in columns ['escore']\n",
            "Row 41979: NaN values in columns ['escore']\n",
            "Row 42033: NaN values in columns ['escore']\n",
            "Row 42034: NaN values in columns ['escore']\n",
            "Row 42184: NaN values in columns ['escore']\n",
            "Row 42686: NaN values in columns ['escore']\n",
            "Row 47889: NaN values in columns ['escore']\n",
            "Row 48329: NaN values in columns ['escore']\n",
            "Row 48330: NaN values in columns ['escore']\n",
            "Row 48331: NaN values in columns ['escore']\n",
            "Row 48332: NaN values in columns ['escore']\n",
            "Row 48333: NaN values in columns ['escore']\n",
            "Row 48334: NaN values in columns ['escore']\n",
            "Row 48389: NaN values in columns ['escore']\n",
            "Row 48564: NaN values in columns ['escore']\n",
            "Row 49189: NaN values in columns ['escore']\n",
            "Row 49665: NaN values in columns ['escore']\n",
            "Row 50142: NaN values in columns ['escore']\n",
            "Row 50143: NaN values in columns ['escore']\n",
            "Row 51646: NaN values in columns ['escore']\n",
            "Row 52573: NaN values in columns ['escore']\n",
            "Row 52673: NaN values in columns ['escore']\n",
            "Row 52773: NaN values in columns ['escore']\n",
            "Row 52963: NaN values in columns ['escore']\n",
            "Row 52964: NaN values in columns ['escore']\n",
            "Row 52998: NaN values in columns ['escore']\n",
            "Row 53674: NaN values in columns ['escore']\n",
            "Row 55175: NaN values in columns ['escore']\n",
            "Row 55625: NaN values in columns ['escore']\n",
            "Row 56025: NaN values in columns ['escore']\n",
            "Row 56050: NaN values in columns ['escore']\n",
            "Row 56276: NaN values in columns ['escore']\n",
            "Row 56301: NaN values in columns ['escore']\n",
            "Row 56602: NaN values in columns ['escore']\n",
            "Row 56752: NaN values in columns ['escore']\n",
            "Row 56827: NaN values in columns ['escore']\n",
            "Row 57128: NaN values in columns ['escore']\n",
            "Row 57253: NaN values in columns ['escore']\n",
            "Row 60374: NaN values in columns ['escore']\n",
            "Row 61505: NaN values in columns ['escore']\n",
            "Row 61820: NaN values in columns ['escore']\n",
            "Row 61821: NaN values in columns ['escore']\n",
            "Row 61822: NaN values in columns ['escore']\n",
            "Row 61823: NaN values in columns ['escore']\n",
            "Row 61824: NaN values in columns ['escore']\n",
            "Row 61825: NaN values in columns ['escore']\n",
            "Row 61955: NaN values in columns ['escore']\n",
            "Row 62029: NaN values in columns ['escore']\n",
            "Row 62030: NaN values in columns ['escore']\n",
            "Row 62055: NaN values in columns ['escore']\n"
          ]
        }
      ]
    },
    {
      "cell_type": "code",
      "source": [
        "import numpy as np\n",
        "\n",
        "# Find rows with NaN values\n",
        "nan_rows = escore_interest[escore_interest.isna().any(axis=1)]\n",
        "\n",
        "# Print 'Name' and 'year' for rows with NaN values\n",
        "for index, row in nan_rows.iterrows():\n",
        "    print(f\"Name: {row['Name']}, Year: {row['year']}\")"
      ],
      "metadata": {
        "colab": {
          "base_uri": "https://localhost:8080/"
        },
        "id": "ub4IXbpwS025",
        "outputId": "6aea753d-dd31-4234-eff9-331120567f10"
      },
      "execution_count": 194,
      "outputs": [
        {
          "output_type": "stream",
          "name": "stdout",
          "text": [
            "Name: ABC-MART, Year: 2023-01-01 00:00:00\n",
            "Name: ADBRI DEAD - DELIST.02/07/24, Year: 2023-01-01 00:00:00\n",
            "Name: AIR NEW ZEALAND, Year: 2013-01-01 00:00:00\n",
            "Name: AIR NEW ZEALAND, Year: 2014-01-01 00:00:00\n",
            "Name: AMPOL, Year: 2023-01-01 00:00:00\n",
            "Name: ASICS, Year: 2023-01-01 00:00:00\n",
            "Name: ASMPT, Year: 2023-01-01 00:00:00\n",
            "Name: BENDIGO & ADELAIDE BANK, Year: 2023-01-01 00:00:00\n",
            "Name: BORAL DEAD - DELIST.08/07/24, Year: 2023-01-01 00:00:00\n",
            "Name: CAPCOM, Year: 2013-01-01 00:00:00\n",
            "Name: CAPCOM, Year: 2014-01-01 00:00:00\n",
            "Name: CAPCOM, Year: 2015-01-01 00:00:00\n",
            "Name: CAPCOM, Year: 2016-01-01 00:00:00\n",
            "Name: CAPCOM, Year: 2017-01-01 00:00:00\n",
            "Name: CAPCOM, Year: 2018-01-01 00:00:00\n",
            "Name: CATHAY PACIFIC AIRWAYS, Year: 2023-01-01 00:00:00\n",
            "Name: CHIN.PWR.INTDVT., Year: 2013-01-01 00:00:00\n",
            "Name: CHINA RESOURCES POWER, Year: 2023-01-01 00:00:00\n",
            "Name: CIMIC GROUP DEAD - DELIST.11/05/22, Year: 2022-01-01 00:00:00\n",
            "Name: CIMIC GROUP DEAD - DELIST.11/05/22, Year: 2023-01-01 00:00:00\n",
            "Name: COCA-COLA BOTTLERS JAPAN HOLDINGS, Year: 2023-01-01 00:00:00\n",
            "Name: CONCORDIA FINANCIAL GP., Year: 2013-01-01 00:00:00\n",
            "Name: CONCORDIA FINANCIAL GP., Year: 2014-01-01 00:00:00\n",
            "Name: CONCORDIA FINANCIAL GP., Year: 2015-01-01 00:00:00\n",
            "Name: CONCORDIA FINANCIAL GP., Year: 2016-01-01 00:00:00\n",
            "Name: CTF SERVICES, Year: 2021-01-01 00:00:00\n",
            "Name: DAH SING FINANCIAL HDG., Year: 2013-01-01 00:00:00\n",
            "Name: DAH SING FINANCIAL HDG., Year: 2014-01-01 00:00:00\n",
            "Name: DAH SING FINANCIAL HDG., Year: 2015-01-01 00:00:00\n",
            "Name: DAH SING FINANCIAL HDG., Year: 2016-01-01 00:00:00\n",
            "Name: DAH SING FINANCIAL HDG., Year: 2017-01-01 00:00:00\n",
            "Name: DAH SING FINANCIAL HDG., Year: 2018-01-01 00:00:00\n",
            "Name: EBARA, Year: 2023-01-01 00:00:00\n",
            "Name: ENERGY RES.OF AUS., Year: 2023-01-01 00:00:00\n",
            "Name: FLIGHT CENTRE TRAVEL GP., Year: 2021-01-01 00:00:00\n",
            "Name: FURUKAWA, Year: 2013-01-01 00:00:00\n",
            "Name: FURUKAWA, Year: 2014-01-01 00:00:00\n",
            "Name: FURUKAWA, Year: 2015-01-01 00:00:00\n",
            "Name: FURUKAWA, Year: 2016-01-01 00:00:00\n",
            "Name: FURUKAWA, Year: 2017-01-01 00:00:00\n",
            "Name: FURUKAWA, Year: 2018-01-01 00:00:00\n",
            "Name: FURUKAWA, Year: 2019-01-01 00:00:00\n",
            "Name: FURUKAWA, Year: 2023-01-01 00:00:00\n",
            "Name: GOLDEN AGRI-RESOURCES, Year: 2021-01-01 00:00:00\n",
            "Name: GOLDEN AGRI-RESOURCES, Year: 2023-01-01 00:00:00\n",
            "Name: GPT GROUP STAPLED UNITS, Year: 2023-01-01 00:00:00\n",
            "Name: HAKUHODO DY HDG., Year: 2023-01-01 00:00:00\n",
            "Name: HILLS DEAD - DELIST.29/08/23, Year: 2023-01-01 00:00:00\n",
            "Name: HINO MOTORS, Year: 2022-01-01 00:00:00\n",
            "Name: HINO MOTORS, Year: 2023-01-01 00:00:00\n",
            "Name: HITACHI CON.MCH., Year: 2023-01-01 00:00:00\n",
            "Name: HITACHI METALS DEAD - DELIST.29/12/22, Year: 2022-01-01 00:00:00\n",
            "Name: HITACHI METALS DEAD - DELIST.29/12/22, Year: 2023-01-01 00:00:00\n",
            "Name: HOKUETSU, Year: 2013-01-01 00:00:00\n",
            "Name: HOKUETSU, Year: 2014-01-01 00:00:00\n",
            "Name: HOKUETSU, Year: 2015-01-01 00:00:00\n",
            "Name: HOKUETSU, Year: 2016-01-01 00:00:00\n",
            "Name: HOKUETSU, Year: 2017-01-01 00:00:00\n",
            "Name: HOKUETSU, Year: 2018-01-01 00:00:00\n",
            "Name: HOKUETSU, Year: 2019-01-01 00:00:00\n",
            "Name: HOKUETSU, Year: 2020-01-01 00:00:00\n",
            "Name: HOKUETSU, Year: 2021-01-01 00:00:00\n",
            "Name: HUABAO INTL.HDG., Year: 2023-01-01 00:00:00\n",
            "Name: INVOCARE DEAD - DELIST.27/11/23, Year: 2023-01-01 00:00:00\n",
            "Name: ISETAN MITSUKOSHI HDG., Year: 2023-01-01 00:00:00\n",
            "Name: ITO EN, Year: 2023-01-01 00:00:00\n",
            "Name: ITOCHU TECHNO-SOLUTIONS DEAD - DELIST.01/12/23, Year: 2023-01-01 00:00:00\n",
            "Name: JAPAN METROPOLITAN FUND INVESTMENT REIT, Year: 2022-01-01 00:00:00\n",
            "Name: JAPAN METROPOLITAN FUND INVESTMENT REIT, Year: 2023-01-01 00:00:00\n",
            "Name: JAPAN PRIME REALTY INV., Year: 2021-01-01 00:00:00\n",
            "Name: JAPAN PRIME REALTY INV., Year: 2022-01-01 00:00:00\n",
            "Name: JAPAN PRIME REALTY INV., Year: 2023-01-01 00:00:00\n",
            "Name: JAPAN REAL ESTATE INV., Year: 2022-01-01 00:00:00\n",
            "Name: JAPAN REAL ESTATE INV., Year: 2023-01-01 00:00:00\n",
            "Name: KANADEVIA, Year: 2013-01-01 00:00:00\n",
            "Name: KANADEVIA, Year: 2014-01-01 00:00:00\n",
            "Name: KANADEVIA, Year: 2015-01-01 00:00:00\n",
            "Name: KANADEVIA, Year: 2016-01-01 00:00:00\n",
            "Name: KANADEVIA, Year: 2017-01-01 00:00:00\n",
            "Name: KANADEVIA, Year: 2018-01-01 00:00:00\n",
            "Name: KANADEVIA, Year: 2019-01-01 00:00:00\n",
            "Name: KANADEVIA, Year: 2020-01-01 00:00:00\n",
            "Name: KANADEVIA, Year: 2021-01-01 00:00:00\n",
            "Name: KAO, Year: 2023-01-01 00:00:00\n",
            "Name: KEIKYU, Year: 2019-01-01 00:00:00\n",
            "Name: KEISEI ELEC.RAILWAY, Year: 2023-01-01 00:00:00\n",
            "Name: KEPPEL, Year: 2023-01-01 00:00:00\n",
            "Name: KOSE, Year: 2023-01-01 00:00:00\n",
            "Name: KURARAY, Year: 2023-01-01 00:00:00\n",
            "Name: KYOWA KIRIN, Year: 2023-01-01 00:00:00\n",
            "Name: LIFESTYLE INTL.HDG. DEAD - DELIST.21/12/22, Year: 2022-01-01 00:00:00\n",
            "Name: LIFESTYLE INTL.HDG. DEAD - DELIST.21/12/22, Year: 2023-01-01 00:00:00\n",
            "Name: LY, Year: 2023-01-01 00:00:00\n",
            "Name: MABUCHI MOTOR, Year: 2023-01-01 00:00:00\n",
            "Name: MISUMI GROUP, Year: 2013-01-01 00:00:00\n",
            "Name: MISUMI GROUP, Year: 2014-01-01 00:00:00\n",
            "Name: MISUMI GROUP, Year: 2015-01-01 00:00:00\n",
            "Name: NEWCREST MINING DEAD - DELIST.08/11/23, Year: 2023-01-01 00:00:00\n",
            "Name: NHK SPRING, Year: 2023-01-01 00:00:00\n",
            "Name: NICHIREI, Year: 2023-01-01 00:00:00\n",
            "Name: NIPPON BUILDING FUND, Year: 2022-01-01 00:00:00\n",
            "Name: NIPPON BUILDING FUND, Year: 2023-01-01 00:00:00\n",
            "Name: NIPPON EXPRESS HOLDINGS, Year: 2023-01-01 00:00:00\n",
            "Name: NISSAN CHEMICAL, Year: 2023-01-01 00:00:00\n",
            "Name: NISSIN FOODS HOLDINGS, Year: 2023-01-01 00:00:00\n",
            "Name: NISSUI, Year: 2013-01-01 00:00:00\n",
            "Name: NISSUI, Year: 2014-01-01 00:00:00\n",
            "Name: NISSUI, Year: 2015-01-01 00:00:00\n",
            "Name: NISSUI, Year: 2016-01-01 00:00:00\n",
            "Name: NISSUI, Year: 2017-01-01 00:00:00\n",
            "Name: NISSUI, Year: 2018-01-01 00:00:00\n",
            "Name: NISSUI, Year: 2019-01-01 00:00:00\n",
            "Name: OLAM GROUP, Year: 2013-01-01 00:00:00\n",
            "Name: OLAM GROUP, Year: 2014-01-01 00:00:00\n",
            "Name: OLAM GROUP, Year: 2015-01-01 00:00:00\n",
            "Name: OLAM GROUP, Year: 2016-01-01 00:00:00\n",
            "Name: OLAM GROUP, Year: 2017-01-01 00:00:00\n",
            "Name: OLAM GROUP, Year: 2018-01-01 00:00:00\n",
            "Name: OLAM GROUP, Year: 2019-01-01 00:00:00\n",
            "Name: OLAM GROUP, Year: 2020-01-01 00:00:00\n",
            "Name: OLAM GROUP, Year: 2021-01-01 00:00:00\n",
            "Name: OLAM GROUP, Year: 2023-01-01 00:00:00\n",
            "Name: OSAKA TITANIUM, Year: 2023-01-01 00:00:00\n",
            "Name: OUE, Year: 2013-01-01 00:00:00\n",
            "Name: OUE, Year: 2014-01-01 00:00:00\n",
            "Name: OUE, Year: 2015-01-01 00:00:00\n",
            "Name: OUE, Year: 2016-01-01 00:00:00\n",
            "Name: OUE, Year: 2017-01-01 00:00:00\n",
            "Name: OUE, Year: 2018-01-01 00:00:00\n",
            "Name: OVATO DEAD - DELIST.29/08/22, Year: 2022-01-01 00:00:00\n",
            "Name: OVATO DEAD - DELIST.29/08/22, Year: 2023-01-01 00:00:00\n",
            "Name: OZ MINERALS DEAD - DELIST.03/05/23, Year: 2023-01-01 00:00:00\n",
            "Name: PCCW, Year: 2023-01-01 00:00:00\n",
            "Name: SAPPORO HOLDINGS, Year: 2023-01-01 00:00:00\n",
            "Name: SCREEN HOLDINGS, Year: 2013-01-01 00:00:00\n",
            "Name: SCREEN HOLDINGS, Year: 2014-01-01 00:00:00\n",
            "Name: SCREEN HOLDINGS, Year: 2015-01-01 00:00:00\n",
            "Name: SCREEN HOLDINGS, Year: 2016-01-01 00:00:00\n",
            "Name: SCREEN HOLDINGS, Year: 2017-01-01 00:00:00\n",
            "Name: SCREEN HOLDINGS, Year: 2018-01-01 00:00:00\n",
            "Name: SEAGATE TECHNOLOGY HOLDINGS, Year: 2023-01-01 00:00:00\n",
            "Name: SEGA SAMMY HDG., Year: 2023-01-01 00:00:00\n",
            "Name: SHANGHAI INDUSTRIAL HOLDINGS, Year: 2023-01-01 00:00:00\n",
            "Name: SHIZUOKA FINANCIAL GROUP, Year: 2022-01-01 00:00:00\n",
            "Name: SINGAPORE PRESS HDG. DEAD - DELIST.13/05/22, Year: 2022-01-01 00:00:00\n",
            "Name: SINGAPORE PRESS HDG. DEAD - DELIST.13/05/22, Year: 2023-01-01 00:00:00\n",
            "Name: ST BARBARA, Year: 2023-01-01 00:00:00\n",
            "Name: SUMITOMO ELECTRIC IND., Year: 2023-01-01 00:00:00\n",
            "Name: SUMITOMO MITSUI TRUST GROUP, Year: 2023-01-01 00:00:00\n",
            "Name: SUMITOMO RUBBER INDS., Year: 2023-01-01 00:00:00\n",
            "Name: SUNDRUG, Year: 2013-01-01 00:00:00\n",
            "Name: SUNDRUG, Year: 2014-01-01 00:00:00\n",
            "Name: SUNLAND GROUP DEAD - DELIST.30/10/23, Year: 2023-01-01 00:00:00\n",
            "Name: TAISEI, Year: 2023-01-01 00:00:00\n",
            "Name: TERUMO, Year: 2023-01-01 00:00:00\n",
            "Name: THK, Year: 2023-01-01 00:00:00\n",
            "Name: TOBU RAILWAY, Year: 2023-01-01 00:00:00\n",
            "Name: TOHO, Year: 2023-01-01 00:00:00\n",
            "Name: TOKYO STEEL MNFG., Year: 2023-01-01 00:00:00\n",
            "Name: TOKYO TATEMONO, Year: 2023-01-01 00:00:00\n",
            "Name: TOSOH, Year: 2023-01-01 00:00:00\n",
            "Name: TOYO SUISAN KAISHA, Year: 2023-01-01 00:00:00\n",
            "Name: TOYOTA BOSHOKU, Year: 2023-01-01 00:00:00\n",
            "Name: TREND MICRO, Year: 2023-01-01 00:00:00\n",
            "Name: TRIP COM GROUP ADR 1:1, Year: 2023-01-01 00:00:00\n",
            "Name: WANT WANT CHINA HOLDINGS, Year: 2017-01-01 00:00:00\n",
            "Name: WOODSIDE ENERGY GROUP, Year: 2023-01-01 00:00:00\n",
            "Name: XP POWER (DI), Year: 2013-01-01 00:00:00\n",
            "Name: XP POWER (DI), Year: 2014-01-01 00:00:00\n",
            "Name: XP POWER (DI), Year: 2015-01-01 00:00:00\n",
            "Name: XP POWER (DI), Year: 2016-01-01 00:00:00\n",
            "Name: XP POWER (DI), Year: 2017-01-01 00:00:00\n",
            "Name: XP POWER (DI), Year: 2018-01-01 00:00:00\n",
            "Name: YAMAHA MOTOR, Year: 2023-01-01 00:00:00\n",
            "Name: YAMATO KOGYO, Year: 2022-01-01 00:00:00\n",
            "Name: YAMATO KOGYO, Year: 2023-01-01 00:00:00\n",
            "Name: YAMAZAKI BAKING, Year: 2023-01-01 00:00:00\n"
          ]
        }
      ]
    }
  ]
}