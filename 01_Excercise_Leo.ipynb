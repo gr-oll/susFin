{
 "cells": [
  {
   "cell_type": "code",
   "execution_count": 1,
   "metadata": {},
   "outputs": [],
   "source": [
    "import pandas as pd\n",
    "import numpy as np\n",
    "import matplotlib.pyplot as plt\n",
    "import warnings\n",
    "\n",
    "# Hide all warnings\n",
    "warnings.filterwarnings('ignore')"
   ]
  },
  {
   "cell_type": "markdown",
   "metadata": {},
   "source": [
    "#### Importing data"
   ]
  },
  {
   "cell_type": "code",
   "execution_count": 2,
   "metadata": {},
   "outputs": [],
   "source": [
    "filepath = 'https://github.com/gr-oll/susFin/raw/refs/heads/main/Data/'"
   ]
  },
  {
   "cell_type": "code",
   "execution_count": 3,
   "metadata": {},
   "outputs": [],
   "source": [
    "#returns with dididend payments yearly and monthly\n",
    "Y_ret = pd.read_excel(filepath + 'DS_RI_USD_Y.xlsx')\n",
    "M_ret = pd.read_excel(filepath + 'DS_RI_USD_M.xlsx')"
   ]
  },
  {
   "cell_type": "code",
   "execution_count": 4,
   "metadata": {},
   "outputs": [],
   "source": [
    "#market value yearly and monthly\n",
    "Y_mval = pd.read_excel(filepath + 'DS_MV_USD_Y.xlsx')\n",
    "M_mval = pd.read_excel(filepath + 'DS_MV_USD_M.xlsx')"
   ]
  },
  {
   "cell_type": "code",
   "execution_count": 5,
   "metadata": {},
   "outputs": [],
   "source": [
    "#revenue yearly\n",
    "revenue = pd.read_excel(filepath + 'DS_REV_USD_Y.xlsx')\n",
    "\n",
    "#risk free rate\n",
    "rfr = pd.read_excel(filepath + 'Risk_Free_Rate.xlsx')"
   ]
  },
  {
   "cell_type": "code",
   "execution_count": 6,
   "metadata": {},
   "outputs": [],
   "source": [
    "#Escores\n",
    "escore = pd.read_excel(filepath + 'DS_EScore_Y.xlsx')\n",
    "\n",
    "#Companies and Regions\n",
    "companies = pd.read_excel(filepath + 'Static.xlsx')"
   ]
  },
  {
   "cell_type": "markdown",
   "metadata": {},
   "source": [
    "#### Only consider Pacific companies with escores"
   ]
  },
  {
   "cell_type": "code",
   "execution_count": 7,
   "metadata": {},
   "outputs": [],
   "source": [
    "# Merge data with companies on ISIN and keep only records where Region = PAC\n",
    "#   [companies['Region'].isin(['PAC'])] is used to filter the rows where Region = PAC\n",
    "escore = escore.merge(companies[companies['Region'].isin(['PAC'])][['ISIN', 'Region']], on='ISIN', how='inner')\n",
    "\n",
    "#count the non nan values between the third and last column in each row and keep also the ISIN\n",
    "escore_count = escore[['ISIN']].copy()\n",
    "escore_count['count'] = escore.iloc[:, 16:].count(axis=1)\n",
    "#drop the rows where the count is not 11\n",
    "escore_count_complete = escore_count[escore_count['count'] > 10]\n",
    "escore_count_complete.drop(columns=['count'], inplace=True)\n",
    "\n",
    "\n",
    "Y_ret = Y_ret.merge(companies[companies['Region'].isin(['PAC'])][['ISIN', 'Region']], on='ISIN', how='inner')\n",
    "Y_ret = Y_ret[Y_ret['ISIN'].isin(escore_count_complete['ISIN'])]\n",
    "\n",
    "M_ret = M_ret.merge(companies[companies['Region'].isin(['PAC'])][['ISIN', 'Region']], on='ISIN', how='inner')\n",
    "M_ret = M_ret[M_ret['ISIN'].isin(escore_count_complete['ISIN'])]\n",
    "\n",
    "Y_mval = Y_mval.merge(companies[companies['Region'].isin(['PAC'])][['ISIN', 'Region']], on='ISIN', how='inner')\n",
    "Y_mval = Y_mval[Y_mval['ISIN'].isin(escore_count_complete['ISIN'])]\n",
    "\n",
    "M_mval = M_mval.merge(companies[companies['Region'].isin(['PAC'])][['ISIN', 'Region']], on='ISIN', how='inner')\n",
    "M_mval = M_mval[M_mval['ISIN'].isin(escore_count_complete['ISIN'])]\n",
    "\n",
    "revenue = revenue.merge(companies[companies['Region'].isin(['PAC'])][['ISIN', 'Region']], on='ISIN', how='inner')\n",
    "revenue = revenue[revenue['ISIN'].isin(escore_count_complete['ISIN'])]\n",
    "\n",
    "# Drop the duplicated columns from the merge\n",
    "for df in [M_ret, Y_ret, M_mval, Y_mval, revenue, escore]:\n",
    "    df.drop(columns=['Region'], inplace=True)\n"
   ]
  },
  {
   "cell_type": "markdown",
   "metadata": {},
   "source": [
    "477 companies remaning."
   ]
  },
  {
   "cell_type": "markdown",
   "metadata": {},
   "source": [
    "#### Melting dataframes to have them in long format"
   ]
  },
  {
   "cell_type": "code",
   "execution_count": 8,
   "metadata": {},
   "outputs": [],
   "source": [
    "M_ret_w = M_ret.melt(id_vars=[\"NAME\", \"ISIN\"], var_name=\"DATE\", value_name=\"RETURN\")\n",
    "Y_ret_w = Y_ret.melt(id_vars=[\"NAME\", \"ISIN\"], var_name=\"DATE\", value_name=\"RETURN\")\n",
    "M_mval_w = M_mval.melt(id_vars=[\"NAME\", \"ISIN\"], var_name=\"DATE\", value_name=\"MKT_VAL\")\n",
    "Y_mval_w = Y_mval.melt(id_vars=[\"NAME\", \"ISIN\"], var_name=\"DATE\", value_name=\"MKT_VAL\")\n",
    "revenue_w = revenue.melt(id_vars=[\"NAME\", \"ISIN\"], var_name=\"DATE\", value_name=\"REVENUE\")\n",
    "escore_w = escore.melt(id_vars=[\"NAME\", \"ISIN\"], var_name=\"DATE\", value_name=\"ESCORE\")"
   ]
  },
  {
   "cell_type": "code",
   "execution_count": 9,
   "metadata": {},
   "outputs": [
    {
     "name": "stdout",
     "output_type": "stream",
     "text": [
      "Missing monthly returns: 2504\n",
      "Missing yearly returns: 288\n"
     ]
    }
   ],
   "source": [
    "#print missing returns counts\n",
    "print('Missing monthly returns:', M_ret_w['RETURN'].isnull().sum())\n",
    "print('Missing yearly returns:', Y_ret_w['RETURN'].isnull().sum())"
   ]
  },
  {
   "cell_type": "code",
   "execution_count": 10,
   "metadata": {},
   "outputs": [
    {
     "name": "stdout",
     "output_type": "stream",
     "text": [
      "Missing monthly returns: 2504\n",
      "Missing yearly returns: 288\n"
     ]
    }
   ],
   "source": [
    "def fill_middle_missing(group):\n",
    "    # Create mask for missing values with valid previous and next values\n",
    "    mask = group['RETURN'].isna() & group['RETURN'].shift(1).notna() & group['RETURN'].shift(-1).notna()\n",
    "    group.loc[mask, 'RETURN'] = (group['RETURN'].shift(1) + group['RETURN'].shift(-1)) / 2\n",
    "    return group\n",
    "\n",
    "M_ret_w = M_ret_w.groupby('ISIN', group_keys=False).apply(fill_middle_missing)\n",
    "\n",
    "#print missing returns counts\n",
    "print('Missing monthly returns:', M_ret_w['RETURN'].isnull().sum())\n",
    "print('Missing yearly returns:', Y_ret_w['RETURN'].isnull().sum())"
   ]
  },
  {
   "cell_type": "markdown",
   "metadata": {},
   "source": [
    "There are no missing values \"in the middle\""
   ]
  },
  {
   "cell_type": "markdown",
   "metadata": {},
   "source": [
    "#### Making sure the data is correct"
   ]
  },
  {
   "cell_type": "code",
   "execution_count": 11,
   "metadata": {},
   "outputs": [],
   "source": [
    "for df in [M_ret_w, M_mval_w]:\n",
    "    #change first 2 columns to string\n",
    "    df['NAME'] = df['NAME'].astype(str)\n",
    "    df['ISIN'] = df['ISIN'].astype(str)\n",
    "    #date format d.m.y\n",
    "    df['DATE'] = pd.to_datetime(df['DATE'], format='%d.%m.%Y')\n",
    "\n",
    "for df in [Y_ret_w, Y_mval_w, revenue_w, escore_w]:\n",
    "    #change first 2 columns to string\n",
    "    df['NAME'] = df['NAME'].astype(str)\n",
    "    df['ISIN'] = df['ISIN'].astype(str)"
   ]
  },
  {
   "cell_type": "code",
   "execution_count": 12,
   "metadata": {},
   "outputs": [
    {
     "data": {
      "text/html": [
       "<div>\n",
       "<style scoped>\n",
       "    .dataframe tbody tr th:only-of-type {\n",
       "        vertical-align: middle;\n",
       "    }\n",
       "\n",
       "    .dataframe tbody tr th {\n",
       "        vertical-align: top;\n",
       "    }\n",
       "\n",
       "    .dataframe thead th {\n",
       "        text-align: right;\n",
       "    }\n",
       "</style>\n",
       "<table border=\"1\" class=\"dataframe\">\n",
       "  <thead>\n",
       "    <tr style=\"text-align: right;\">\n",
       "      <th></th>\n",
       "      <th>NAME</th>\n",
       "      <th>ISIN</th>\n",
       "      <th>DATE</th>\n",
       "      <th>RETURN</th>\n",
       "    </tr>\n",
       "  </thead>\n",
       "  <tbody>\n",
       "    <tr>\n",
       "      <th>0</th>\n",
       "      <td>ADBRI DEAD - DELIST.02/07/24</td>\n",
       "      <td>AU000000ABC7</td>\n",
       "      <td>1999-12-31</td>\n",
       "      <td>509.52</td>\n",
       "    </tr>\n",
       "    <tr>\n",
       "      <th>1</th>\n",
       "      <td>ARISTOCRAT LEISURE</td>\n",
       "      <td>AU000000ALL7</td>\n",
       "      <td>1999-12-31</td>\n",
       "      <td>468.13</td>\n",
       "    </tr>\n",
       "    <tr>\n",
       "      <th>2</th>\n",
       "      <td>AMP</td>\n",
       "      <td>AU000000AMP6</td>\n",
       "      <td>1999-12-31</td>\n",
       "      <td>48.55</td>\n",
       "    </tr>\n",
       "    <tr>\n",
       "      <th>3</th>\n",
       "      <td>ANSELL</td>\n",
       "      <td>AU000000ANN9</td>\n",
       "      <td>1999-12-31</td>\n",
       "      <td>1429.61</td>\n",
       "    </tr>\n",
       "    <tr>\n",
       "      <th>4</th>\n",
       "      <td>ANZ GROUP HOLDINGS</td>\n",
       "      <td>AU000000ANZ3</td>\n",
       "      <td>1999-12-31</td>\n",
       "      <td>3542.11</td>\n",
       "    </tr>\n",
       "  </tbody>\n",
       "</table>\n",
       "</div>"
      ],
      "text/plain": [
       "                           NAME          ISIN       DATE   RETURN\n",
       "0  ADBRI DEAD - DELIST.02/07/24  AU000000ABC7 1999-12-31   509.52\n",
       "1            ARISTOCRAT LEISURE  AU000000ALL7 1999-12-31   468.13\n",
       "2                           AMP  AU000000AMP6 1999-12-31    48.55\n",
       "3                        ANSELL  AU000000ANN9 1999-12-31  1429.61\n",
       "4            ANZ GROUP HOLDINGS  AU000000ANZ3 1999-12-31  3542.11"
      ]
     },
     "execution_count": 12,
     "metadata": {},
     "output_type": "execute_result"
    }
   ],
   "source": [
    "M_ret_w.head()"
   ]
  },
  {
   "cell_type": "code",
   "execution_count": 13,
   "metadata": {},
   "outputs": [
    {
     "data": {
      "text/html": [
       "<div>\n",
       "<style scoped>\n",
       "    .dataframe tbody tr th:only-of-type {\n",
       "        vertical-align: middle;\n",
       "    }\n",
       "\n",
       "    .dataframe tbody tr th {\n",
       "        vertical-align: top;\n",
       "    }\n",
       "\n",
       "    .dataframe thead th {\n",
       "        text-align: right;\n",
       "    }\n",
       "</style>\n",
       "<table border=\"1\" class=\"dataframe\">\n",
       "  <thead>\n",
       "    <tr style=\"text-align: right;\">\n",
       "      <th></th>\n",
       "      <th>NAME</th>\n",
       "      <th>ISIN</th>\n",
       "      <th>DATE</th>\n",
       "      <th>RETURN</th>\n",
       "    </tr>\n",
       "  </thead>\n",
       "  <tbody>\n",
       "    <tr>\n",
       "      <th>0</th>\n",
       "      <td>ADBRI DEAD - DELIST.02/07/24</td>\n",
       "      <td>AU000000ABC7</td>\n",
       "      <td>1999</td>\n",
       "      <td>623.94</td>\n",
       "    </tr>\n",
       "    <tr>\n",
       "      <th>1</th>\n",
       "      <td>ARISTOCRAT LEISURE</td>\n",
       "      <td>AU000000ALL7</td>\n",
       "      <td>1999</td>\n",
       "      <td>179.92</td>\n",
       "    </tr>\n",
       "    <tr>\n",
       "      <th>2</th>\n",
       "      <td>AMP</td>\n",
       "      <td>AU000000AMP6</td>\n",
       "      <td>1999</td>\n",
       "      <td>54.46</td>\n",
       "    </tr>\n",
       "    <tr>\n",
       "      <th>3</th>\n",
       "      <td>ANSELL</td>\n",
       "      <td>AU000000ANN9</td>\n",
       "      <td>1999</td>\n",
       "      <td>1819.37</td>\n",
       "    </tr>\n",
       "    <tr>\n",
       "      <th>4</th>\n",
       "      <td>ANZ GROUP HOLDINGS</td>\n",
       "      <td>AU000000ANZ3</td>\n",
       "      <td>1999</td>\n",
       "      <td>3194.63</td>\n",
       "    </tr>\n",
       "  </tbody>\n",
       "</table>\n",
       "</div>"
      ],
      "text/plain": [
       "                           NAME          ISIN  DATE   RETURN\n",
       "0  ADBRI DEAD - DELIST.02/07/24  AU000000ABC7  1999   623.94\n",
       "1            ARISTOCRAT LEISURE  AU000000ALL7  1999   179.92\n",
       "2                           AMP  AU000000AMP6  1999    54.46\n",
       "3                        ANSELL  AU000000ANN9  1999  1819.37\n",
       "4            ANZ GROUP HOLDINGS  AU000000ANZ3  1999  3194.63"
      ]
     },
     "execution_count": 13,
     "metadata": {},
     "output_type": "execute_result"
    }
   ],
   "source": [
    "Y_ret_w.head()"
   ]
  },
  {
   "cell_type": "code",
   "execution_count": 14,
   "metadata": {},
   "outputs": [
    {
     "data": {
      "text/html": [
       "<div>\n",
       "<style scoped>\n",
       "    .dataframe tbody tr th:only-of-type {\n",
       "        vertical-align: middle;\n",
       "    }\n",
       "\n",
       "    .dataframe tbody tr th {\n",
       "        vertical-align: top;\n",
       "    }\n",
       "\n",
       "    .dataframe thead th {\n",
       "        text-align: right;\n",
       "    }\n",
       "</style>\n",
       "<table border=\"1\" class=\"dataframe\">\n",
       "  <thead>\n",
       "    <tr style=\"text-align: right;\">\n",
       "      <th></th>\n",
       "      <th>NAME</th>\n",
       "      <th>ISIN</th>\n",
       "      <th>DATE</th>\n",
       "      <th>MKT_VAL</th>\n",
       "    </tr>\n",
       "  </thead>\n",
       "  <tbody>\n",
       "    <tr>\n",
       "      <th>0</th>\n",
       "      <td>ADBRI DEAD - DELIST.02/07/24</td>\n",
       "      <td>AU000000ABC7</td>\n",
       "      <td>1999-12-31</td>\n",
       "      <td>213.74</td>\n",
       "    </tr>\n",
       "    <tr>\n",
       "      <th>1</th>\n",
       "      <td>ARISTOCRAT LEISURE</td>\n",
       "      <td>AU000000ALL7</td>\n",
       "      <td>1999-12-31</td>\n",
       "      <td>1503.26</td>\n",
       "    </tr>\n",
       "    <tr>\n",
       "      <th>2</th>\n",
       "      <td>AMP</td>\n",
       "      <td>AU000000AMP6</td>\n",
       "      <td>1999-12-31</td>\n",
       "      <td>11994.9</td>\n",
       "    </tr>\n",
       "    <tr>\n",
       "      <th>3</th>\n",
       "      <td>ANSELL</td>\n",
       "      <td>AU000000ANN9</td>\n",
       "      <td>1999-12-31</td>\n",
       "      <td>1450.51</td>\n",
       "    </tr>\n",
       "    <tr>\n",
       "      <th>4</th>\n",
       "      <td>ANZ GROUP HOLDINGS</td>\n",
       "      <td>AU000000ANZ3</td>\n",
       "      <td>1999-12-31</td>\n",
       "      <td>11368.49</td>\n",
       "    </tr>\n",
       "  </tbody>\n",
       "</table>\n",
       "</div>"
      ],
      "text/plain": [
       "                           NAME          ISIN       DATE   MKT_VAL\n",
       "0  ADBRI DEAD - DELIST.02/07/24  AU000000ABC7 1999-12-31    213.74\n",
       "1            ARISTOCRAT LEISURE  AU000000ALL7 1999-12-31   1503.26\n",
       "2                           AMP  AU000000AMP6 1999-12-31   11994.9\n",
       "3                        ANSELL  AU000000ANN9 1999-12-31   1450.51\n",
       "4            ANZ GROUP HOLDINGS  AU000000ANZ3 1999-12-31  11368.49"
      ]
     },
     "execution_count": 14,
     "metadata": {},
     "output_type": "execute_result"
    }
   ],
   "source": [
    "M_mval_w.head()"
   ]
  },
  {
   "cell_type": "code",
   "execution_count": 15,
   "metadata": {},
   "outputs": [
    {
     "data": {
      "text/html": [
       "<div>\n",
       "<style scoped>\n",
       "    .dataframe tbody tr th:only-of-type {\n",
       "        vertical-align: middle;\n",
       "    }\n",
       "\n",
       "    .dataframe tbody tr th {\n",
       "        vertical-align: top;\n",
       "    }\n",
       "\n",
       "    .dataframe thead th {\n",
       "        text-align: right;\n",
       "    }\n",
       "</style>\n",
       "<table border=\"1\" class=\"dataframe\">\n",
       "  <thead>\n",
       "    <tr style=\"text-align: right;\">\n",
       "      <th></th>\n",
       "      <th>NAME</th>\n",
       "      <th>ISIN</th>\n",
       "      <th>DATE</th>\n",
       "      <th>MKT_VAL</th>\n",
       "    </tr>\n",
       "  </thead>\n",
       "  <tbody>\n",
       "    <tr>\n",
       "      <th>0</th>\n",
       "      <td>ADBRI DEAD - DELIST.02/07/24</td>\n",
       "      <td>AU000000ABC7</td>\n",
       "      <td>1999</td>\n",
       "      <td>87.98</td>\n",
       "    </tr>\n",
       "    <tr>\n",
       "      <th>1</th>\n",
       "      <td>ARISTOCRAT LEISURE</td>\n",
       "      <td>AU000000ALL7</td>\n",
       "      <td>1999</td>\n",
       "      <td>647.86</td>\n",
       "    </tr>\n",
       "    <tr>\n",
       "      <th>2</th>\n",
       "      <td>AMP</td>\n",
       "      <td>AU000000AMP6</td>\n",
       "      <td>1999</td>\n",
       "      <td>12206.85</td>\n",
       "    </tr>\n",
       "    <tr>\n",
       "      <th>3</th>\n",
       "      <td>ANSELL</td>\n",
       "      <td>AU000000ANN9</td>\n",
       "      <td>1999</td>\n",
       "      <td>1789.54</td>\n",
       "    </tr>\n",
       "    <tr>\n",
       "      <th>4</th>\n",
       "      <td>ANZ GROUP HOLDINGS</td>\n",
       "      <td>AU000000ANZ3</td>\n",
       "      <td>1999</td>\n",
       "      <td>10036.9</td>\n",
       "    </tr>\n",
       "  </tbody>\n",
       "</table>\n",
       "</div>"
      ],
      "text/plain": [
       "                           NAME          ISIN  DATE   MKT_VAL\n",
       "0  ADBRI DEAD - DELIST.02/07/24  AU000000ABC7  1999     87.98\n",
       "1            ARISTOCRAT LEISURE  AU000000ALL7  1999    647.86\n",
       "2                           AMP  AU000000AMP6  1999  12206.85\n",
       "3                        ANSELL  AU000000ANN9  1999   1789.54\n",
       "4            ANZ GROUP HOLDINGS  AU000000ANZ3  1999   10036.9"
      ]
     },
     "execution_count": 15,
     "metadata": {},
     "output_type": "execute_result"
    }
   ],
   "source": [
    "Y_mval_w.head()"
   ]
  },
  {
   "cell_type": "code",
   "execution_count": 16,
   "metadata": {},
   "outputs": [
    {
     "data": {
      "text/html": [
       "<div>\n",
       "<style scoped>\n",
       "    .dataframe tbody tr th:only-of-type {\n",
       "        vertical-align: middle;\n",
       "    }\n",
       "\n",
       "    .dataframe tbody tr th {\n",
       "        vertical-align: top;\n",
       "    }\n",
       "\n",
       "    .dataframe thead th {\n",
       "        text-align: right;\n",
       "    }\n",
       "</style>\n",
       "<table border=\"1\" class=\"dataframe\">\n",
       "  <thead>\n",
       "    <tr style=\"text-align: right;\">\n",
       "      <th></th>\n",
       "      <th>NAME</th>\n",
       "      <th>ISIN</th>\n",
       "      <th>DATE</th>\n",
       "      <th>REVENUE</th>\n",
       "    </tr>\n",
       "  </thead>\n",
       "  <tbody>\n",
       "    <tr>\n",
       "      <th>0</th>\n",
       "      <td>ADBRI DEAD - DELIST.02/07/24</td>\n",
       "      <td>AU000000ABC7</td>\n",
       "      <td>1999</td>\n",
       "      <td>207593</td>\n",
       "    </tr>\n",
       "    <tr>\n",
       "      <th>1</th>\n",
       "      <td>ARISTOCRAT LEISURE</td>\n",
       "      <td>AU000000ALL7</td>\n",
       "      <td>1999</td>\n",
       "      <td>266901</td>\n",
       "    </tr>\n",
       "    <tr>\n",
       "      <th>2</th>\n",
       "      <td>AMP</td>\n",
       "      <td>AU000000AMP6</td>\n",
       "      <td>1999</td>\n",
       "      <td>17009291</td>\n",
       "    </tr>\n",
       "    <tr>\n",
       "      <th>3</th>\n",
       "      <td>ANSELL</td>\n",
       "      <td>AU000000ANN9</td>\n",
       "      <td>1999</td>\n",
       "      <td>3903317</td>\n",
       "    </tr>\n",
       "    <tr>\n",
       "      <th>4</th>\n",
       "      <td>ANZ GROUP HOLDINGS</td>\n",
       "      <td>AU000000ANZ3</td>\n",
       "      <td>1999</td>\n",
       "      <td>7565918</td>\n",
       "    </tr>\n",
       "  </tbody>\n",
       "</table>\n",
       "</div>"
      ],
      "text/plain": [
       "                           NAME          ISIN  DATE   REVENUE\n",
       "0  ADBRI DEAD - DELIST.02/07/24  AU000000ABC7  1999    207593\n",
       "1            ARISTOCRAT LEISURE  AU000000ALL7  1999    266901\n",
       "2                           AMP  AU000000AMP6  1999  17009291\n",
       "3                        ANSELL  AU000000ANN9  1999   3903317\n",
       "4            ANZ GROUP HOLDINGS  AU000000ANZ3  1999   7565918"
      ]
     },
     "execution_count": 16,
     "metadata": {},
     "output_type": "execute_result"
    }
   ],
   "source": [
    "revenue_w.head()"
   ]
  },
  {
   "cell_type": "code",
   "execution_count": 17,
   "metadata": {},
   "outputs": [
    {
     "data": {
      "text/html": [
       "<div>\n",
       "<style scoped>\n",
       "    .dataframe tbody tr th:only-of-type {\n",
       "        vertical-align: middle;\n",
       "    }\n",
       "\n",
       "    .dataframe tbody tr th {\n",
       "        vertical-align: top;\n",
       "    }\n",
       "\n",
       "    .dataframe thead th {\n",
       "        text-align: right;\n",
       "    }\n",
       "</style>\n",
       "<table border=\"1\" class=\"dataframe\">\n",
       "  <thead>\n",
       "    <tr style=\"text-align: right;\">\n",
       "      <th></th>\n",
       "      <th>NAME</th>\n",
       "      <th>ISIN</th>\n",
       "      <th>DATE</th>\n",
       "      <th>ESCORE</th>\n",
       "    </tr>\n",
       "  </thead>\n",
       "  <tbody>\n",
       "    <tr>\n",
       "      <th>0</th>\n",
       "      <td>ADBRI DEAD - DELIST.02/07/24</td>\n",
       "      <td>AU000000ABC7</td>\n",
       "      <td>1999</td>\n",
       "      <td>NaN</td>\n",
       "    </tr>\n",
       "    <tr>\n",
       "      <th>1</th>\n",
       "      <td>ARISTOCRAT LEISURE</td>\n",
       "      <td>AU000000ALL7</td>\n",
       "      <td>1999</td>\n",
       "      <td>NaN</td>\n",
       "    </tr>\n",
       "    <tr>\n",
       "      <th>2</th>\n",
       "      <td>AMP</td>\n",
       "      <td>AU000000AMP6</td>\n",
       "      <td>1999</td>\n",
       "      <td>NaN</td>\n",
       "    </tr>\n",
       "    <tr>\n",
       "      <th>3</th>\n",
       "      <td>ANSELL</td>\n",
       "      <td>AU000000ANN9</td>\n",
       "      <td>1999</td>\n",
       "      <td>NaN</td>\n",
       "    </tr>\n",
       "    <tr>\n",
       "      <th>4</th>\n",
       "      <td>ANZ GROUP HOLDINGS</td>\n",
       "      <td>AU000000ANZ3</td>\n",
       "      <td>1999</td>\n",
       "      <td>NaN</td>\n",
       "    </tr>\n",
       "  </tbody>\n",
       "</table>\n",
       "</div>"
      ],
      "text/plain": [
       "                           NAME          ISIN  DATE  ESCORE\n",
       "0  ADBRI DEAD - DELIST.02/07/24  AU000000ABC7  1999     NaN\n",
       "1            ARISTOCRAT LEISURE  AU000000ALL7  1999     NaN\n",
       "2                           AMP  AU000000AMP6  1999     NaN\n",
       "3                        ANSELL  AU000000ANN9  1999     NaN\n",
       "4            ANZ GROUP HOLDINGS  AU000000ANZ3  1999     NaN"
      ]
     },
     "execution_count": 17,
     "metadata": {},
     "output_type": "execute_result"
    }
   ],
   "source": [
    "escore_w.head()"
   ]
  },
  {
   "cell_type": "code",
   "execution_count": null,
   "metadata": {},
   "outputs": [],
   "source": []
  },
  {
   "cell_type": "markdown",
   "metadata": {},
   "source": [
    "#### Compute Annualized returns "
   ]
  },
  {
   "cell_type": "code",
   "execution_count": 18,
   "metadata": {},
   "outputs": [
    {
     "data": {
      "text/html": [
       "<div>\n",
       "<style scoped>\n",
       "    .dataframe tbody tr th:only-of-type {\n",
       "        vertical-align: middle;\n",
       "    }\n",
       "\n",
       "    .dataframe tbody tr th {\n",
       "        vertical-align: top;\n",
       "    }\n",
       "\n",
       "    .dataframe thead th {\n",
       "        text-align: right;\n",
       "    }\n",
       "</style>\n",
       "<table border=\"1\" class=\"dataframe\">\n",
       "  <thead>\n",
       "    <tr style=\"text-align: right;\">\n",
       "      <th></th>\n",
       "      <th>NAME</th>\n",
       "      <th>ISIN</th>\n",
       "      <th>DATE</th>\n",
       "      <th>RETURN</th>\n",
       "      <th>RET_PCT</th>\n",
       "    </tr>\n",
       "  </thead>\n",
       "  <tbody>\n",
       "    <tr>\n",
       "      <th>80613</th>\n",
       "      <td>ADBRI DEAD - DELIST.02/07/24</td>\n",
       "      <td>AU000000ABC7</td>\n",
       "      <td>2014-01-31</td>\n",
       "      <td>7086.58</td>\n",
       "      <td>0.008440</td>\n",
       "    </tr>\n",
       "    <tr>\n",
       "      <th>80614</th>\n",
       "      <td>ARISTOCRAT LEISURE</td>\n",
       "      <td>AU000000ALL7</td>\n",
       "      <td>2014-01-31</td>\n",
       "      <td>820.71</td>\n",
       "      <td>-0.051147</td>\n",
       "    </tr>\n",
       "    <tr>\n",
       "      <th>80615</th>\n",
       "      <td>AMP</td>\n",
       "      <td>AU000000AMP6</td>\n",
       "      <td>2014-01-31</td>\n",
       "      <td>46.78</td>\n",
       "      <td>-0.046668</td>\n",
       "    </tr>\n",
       "    <tr>\n",
       "      <th>80616</th>\n",
       "      <td>ANSELL</td>\n",
       "      <td>AU000000ANN9</td>\n",
       "      <td>2014-01-31</td>\n",
       "      <td>5072.52</td>\n",
       "      <td>-0.093999</td>\n",
       "    </tr>\n",
       "    <tr>\n",
       "      <th>80617</th>\n",
       "      <td>ANZ GROUP HOLDINGS</td>\n",
       "      <td>AU000000ANZ3</td>\n",
       "      <td>2014-01-31</td>\n",
       "      <td>28206.06</td>\n",
       "      <td>-0.083774</td>\n",
       "    </tr>\n",
       "    <tr>\n",
       "      <th>...</th>\n",
       "      <td>...</td>\n",
       "      <td>...</td>\n",
       "      <td>...</td>\n",
       "      <td>...</td>\n",
       "      <td>...</td>\n",
       "    </tr>\n",
       "    <tr>\n",
       "      <th>137848</th>\n",
       "      <td>KEPPEL</td>\n",
       "      <td>SG1U68934629</td>\n",
       "      <td>2023-12-29</td>\n",
       "      <td>2151.45</td>\n",
       "      <td>0.072459</td>\n",
       "    </tr>\n",
       "    <tr>\n",
       "      <th>137849</th>\n",
       "      <td>SINGAPORE AIRLINES</td>\n",
       "      <td>SG1V61937297</td>\n",
       "      <td>2023-12-29</td>\n",
       "      <td>1071.33</td>\n",
       "      <td>0.063640</td>\n",
       "    </tr>\n",
       "    <tr>\n",
       "      <th>137850</th>\n",
       "      <td>FLEX</td>\n",
       "      <td>SG9999000020</td>\n",
       "      <td>2023-12-29</td>\n",
       "      <td>1710.04</td>\n",
       "      <td>0.196862</td>\n",
       "    </tr>\n",
       "    <tr>\n",
       "      <th>137851</th>\n",
       "      <td>GENTING SINGAPORE</td>\n",
       "      <td>SGXE21576413</td>\n",
       "      <td>2023-12-29</td>\n",
       "      <td>241.38</td>\n",
       "      <td>0.105777</td>\n",
       "    </tr>\n",
       "    <tr>\n",
       "      <th>137852</th>\n",
       "      <td>TRIP COM GROUP ADR 1:1</td>\n",
       "      <td>US89677Q1076</td>\n",
       "      <td>2023-12-29</td>\n",
       "      <td>1728.47</td>\n",
       "      <td>0.023593</td>\n",
       "    </tr>\n",
       "  </tbody>\n",
       "</table>\n",
       "<p>57240 rows × 5 columns</p>\n",
       "</div>"
      ],
      "text/plain": [
       "                                NAME          ISIN       DATE    RETURN  \\\n",
       "80613   ADBRI DEAD - DELIST.02/07/24  AU000000ABC7 2014-01-31   7086.58   \n",
       "80614             ARISTOCRAT LEISURE  AU000000ALL7 2014-01-31    820.71   \n",
       "80615                            AMP  AU000000AMP6 2014-01-31     46.78   \n",
       "80616                         ANSELL  AU000000ANN9 2014-01-31   5072.52   \n",
       "80617             ANZ GROUP HOLDINGS  AU000000ANZ3 2014-01-31  28206.06   \n",
       "...                              ...           ...        ...       ...   \n",
       "137848                        KEPPEL  SG1U68934629 2023-12-29   2151.45   \n",
       "137849            SINGAPORE AIRLINES  SG1V61937297 2023-12-29   1071.33   \n",
       "137850                          FLEX  SG9999000020 2023-12-29   1710.04   \n",
       "137851             GENTING SINGAPORE  SGXE21576413 2023-12-29    241.38   \n",
       "137852        TRIP COM GROUP ADR 1:1  US89677Q1076 2023-12-29   1728.47   \n",
       "\n",
       "         RET_PCT  \n",
       "80613   0.008440  \n",
       "80614  -0.051147  \n",
       "80615  -0.046668  \n",
       "80616  -0.093999  \n",
       "80617  -0.083774  \n",
       "...          ...  \n",
       "137848  0.072459  \n",
       "137849  0.063640  \n",
       "137850  0.196862  \n",
       "137851  0.105777  \n",
       "137852  0.023593  \n",
       "\n",
       "[57240 rows x 5 columns]"
      ]
     },
     "execution_count": 18,
     "metadata": {},
     "output_type": "execute_result"
    }
   ],
   "source": [
    "#first filter the data from 2013 to 2023 from M_ret_w (monthly returns wide format)\n",
    "dfe1 = M_ret_w[(M_ret_w['DATE'] >= '2013-12-31') & (M_ret_w['DATE'] <= '2023-12-31')]\n",
    "\n",
    "#for M_ret_w let's compute the annual returns grouped by ISIN\n",
    "\n",
    "#montly returns\n",
    "dfe1['RET_PCT'] = dfe1.groupby('ISIN')['RETURN'].pct_change()\n",
    "\n",
    "#drop the first row (december 2013) of each ISIN\n",
    "dfe1 = dfe1.dropna(subset=['RET_PCT'])\n",
    "dfe1"
   ]
  },
  {
   "cell_type": "code",
   "execution_count": 19,
   "metadata": {},
   "outputs": [],
   "source": [
    "#compute the annual risk \n",
    "tmp = dfe1.groupby('ISIN')[['RET_PCT']].std().rename(columns={'RET_PCT':'RISK'}) #save risk in a tmp dataframe\n",
    "tmp.reset_index(inplace=True) #transform series to dataframe / reset index\n",
    "\n",
    "tmp['RISK'] = tmp['RISK']*np.sqrt(12) #annualize the risk\n",
    "dfe1['RET_PCT'] = dfe1['RET_PCT']*12 #annualize the returns"
   ]
  },
  {
   "cell_type": "code",
   "execution_count": 20,
   "metadata": {},
   "outputs": [
    {
     "data": {
      "text/html": [
       "<div>\n",
       "<style scoped>\n",
       "    .dataframe tbody tr th:only-of-type {\n",
       "        vertical-align: middle;\n",
       "    }\n",
       "\n",
       "    .dataframe tbody tr th {\n",
       "        vertical-align: top;\n",
       "    }\n",
       "\n",
       "    .dataframe thead th {\n",
       "        text-align: right;\n",
       "    }\n",
       "</style>\n",
       "<table border=\"1\" class=\"dataframe\">\n",
       "  <thead>\n",
       "    <tr style=\"text-align: right;\">\n",
       "      <th></th>\n",
       "      <th>NAME</th>\n",
       "      <th>ISIN</th>\n",
       "      <th>RET_PCT</th>\n",
       "      <th>RISK</th>\n",
       "    </tr>\n",
       "  </thead>\n",
       "  <tbody>\n",
       "    <tr>\n",
       "      <th>0</th>\n",
       "      <td>77 BANK</td>\n",
       "      <td>JP3352000008</td>\n",
       "      <td>0.063219</td>\n",
       "      <td>0.257238</td>\n",
       "    </tr>\n",
       "    <tr>\n",
       "      <th>1</th>\n",
       "      <td>A2B AUSTRALIA DEAD - DELIST.12/04/24</td>\n",
       "      <td>AU0000032187</td>\n",
       "      <td>0.058059</td>\n",
       "      <td>0.403969</td>\n",
       "    </tr>\n",
       "    <tr>\n",
       "      <th>2</th>\n",
       "      <td>ABC-MART</td>\n",
       "      <td>JP3152740001</td>\n",
       "      <td>0.065592</td>\n",
       "      <td>0.220597</td>\n",
       "    </tr>\n",
       "    <tr>\n",
       "      <th>3</th>\n",
       "      <td>ACOM</td>\n",
       "      <td>JP3108600002</td>\n",
       "      <td>0.011807</td>\n",
       "      <td>0.262394</td>\n",
       "    </tr>\n",
       "    <tr>\n",
       "      <th>4</th>\n",
       "      <td>ADBRI DEAD - DELIST.02/07/24</td>\n",
       "      <td>AU000000ABC7</td>\n",
       "      <td>0.074295</td>\n",
       "      <td>0.406385</td>\n",
       "    </tr>\n",
       "    <tr>\n",
       "      <th>...</th>\n",
       "      <td>...</td>\n",
       "      <td>...</td>\n",
       "      <td>...</td>\n",
       "      <td>...</td>\n",
       "    </tr>\n",
       "    <tr>\n",
       "      <th>472</th>\n",
       "      <td>YAMATO HDG.</td>\n",
       "      <td>JP3940000007</td>\n",
       "      <td>0.037092</td>\n",
       "      <td>0.256300</td>\n",
       "    </tr>\n",
       "    <tr>\n",
       "      <th>473</th>\n",
       "      <td>YAMAZAKI BAKING</td>\n",
       "      <td>JP3935600001</td>\n",
       "      <td>0.136674</td>\n",
       "      <td>0.310926</td>\n",
       "    </tr>\n",
       "    <tr>\n",
       "      <th>474</th>\n",
       "      <td>YOKOGAWA ELECTRIC</td>\n",
       "      <td>JP3955000009</td>\n",
       "      <td>0.078837</td>\n",
       "      <td>0.288191</td>\n",
       "    </tr>\n",
       "    <tr>\n",
       "      <th>475</th>\n",
       "      <td>YUE YUEN INDL.HDG.</td>\n",
       "      <td>BMG988031446</td>\n",
       "      <td>-0.000384</td>\n",
       "      <td>0.304106</td>\n",
       "    </tr>\n",
       "    <tr>\n",
       "      <th>476</th>\n",
       "      <td>YUEXIU PROPERTY COMPANY</td>\n",
       "      <td>HK0000745908</td>\n",
       "      <td>0.087111</td>\n",
       "      <td>0.343586</td>\n",
       "    </tr>\n",
       "  </tbody>\n",
       "</table>\n",
       "<p>477 rows × 4 columns</p>\n",
       "</div>"
      ],
      "text/plain": [
       "                                     NAME          ISIN   RET_PCT      RISK\n",
       "0                                 77 BANK  JP3352000008  0.063219  0.257238\n",
       "1    A2B AUSTRALIA DEAD - DELIST.12/04/24  AU0000032187  0.058059  0.403969\n",
       "2                                ABC-MART  JP3152740001  0.065592  0.220597\n",
       "3                                    ACOM  JP3108600002  0.011807  0.262394\n",
       "4            ADBRI DEAD - DELIST.02/07/24  AU000000ABC7  0.074295  0.406385\n",
       "..                                    ...           ...       ...       ...\n",
       "472                           YAMATO HDG.  JP3940000007  0.037092  0.256300\n",
       "473                       YAMAZAKI BAKING  JP3935600001  0.136674  0.310926\n",
       "474                     YOKOGAWA ELECTRIC  JP3955000009  0.078837  0.288191\n",
       "475                    YUE YUEN INDL.HDG.  BMG988031446 -0.000384  0.304106\n",
       "476               YUEXIU PROPERTY COMPANY  HK0000745908  0.087111  0.343586\n",
       "\n",
       "[477 rows x 4 columns]"
      ]
     },
     "execution_count": 20,
     "metadata": {},
     "output_type": "execute_result"
    }
   ],
   "source": [
    "# Now grouping by ISIN and NAME to compute the annualized returns\n",
    "annualized_returns = dfe1.groupby(['NAME', 'ISIN'])[['RET_PCT']].mean().reset_index() #reset index to get series in to a dataframe\n",
    "\n",
    "#merge tmp (risk) with annualized_returns\n",
    "annualized_returns = annualized_returns.merge(tmp, on='ISIN', how='left')\n",
    "annualized_returns"
   ]
  },
  {
   "cell_type": "code",
   "execution_count": 21,
   "metadata": {},
   "outputs": [
    {
     "data": {
      "image/png": "[encoded data removed]",
      "text/plain": [
       "<Figure size 640x480 with 1 Axes>"
      ]
     },
     "metadata": {},
     "output_type": "display_data"
    },
    {
     "data": {
      "image/png": "[encoded data removed]",
      "text/plain": [
       "<Figure size 640x480 with 1 Axes>"
      ]
     },
     "metadata": {},
     "output_type": "display_data"
    }
   ],
   "source": [
    "#plot an histogram of the average monthly return and the risk\n",
    "for i in ['RET_PCT', 'RISK']:\n",
    "    plt.hist(annualized_returns[i], bins=50, color='blue', alpha=0.7)\n",
    "    plt.xlabel('Annualized ' + i)\n",
    "    plt.ylabel('Frequency')\n",
    "    plt.title('Distribution of ' + i)\n",
    "    plt.show()"
   ]
  },
  {
   "cell_type": "code",
   "execution_count": 22,
   "metadata": {},
   "outputs": [
    {
     "name": "stdout",
     "output_type": "stream",
     "text": [
      "Correlation between annualized returns and risk: 0.14045984838465098\n"
     ]
    }
   ],
   "source": [
    "correlation = annualized_returns[['RET_PCT', 'RISK']].corr().iloc[0, 1]\n",
    "print('Correlation between annualized returns and risk:', correlation)"
   ]
  },
  {
   "cell_type": "code",
   "execution_count": 23,
   "metadata": {},
   "outputs": [
    {
     "data": {
      "image/png": "[encoded data removed]",
      "text/plain": [
       "<Figure size 800x500 with 1 Axes>"
      ]
     },
     "metadata": {},
     "output_type": "display_data"
    }
   ],
   "source": [
    "plt.figure(figsize=(8, 5))\n",
    "plt.scatter(annualized_returns['RISK'], annualized_returns['RET_PCT'], color='blue', alpha=0.7)\n",
    "plt.xlabel('Annualized Risk')\n",
    "plt.ylabel('Annualized Return')\n",
    "plt.title('Annualized Return vs Risk')\n",
    "\n",
    "# Compute correlation\n",
    "corr = annualized_returns['RISK'].corr(annualized_returns['RET_PCT'])\n",
    "\n",
    "# Add a trendline\n",
    "slope, intercept = np.polyfit(annualized_returns['RISK'], annualized_returns['RET_PCT'], 1)\n",
    "x = np.linspace(annualized_returns['RISK'].min(), annualized_returns['RISK'].max(), 100)\n",
    "y = slope * x + intercept\n",
    "plt.plot(x, y, color='red', linestyle='--', label='Trendline')\n",
    "\n",
    "# Display correlation on the plot\n",
    "plt.text(\n",
    "    0.05, 0.95,\n",
    "    f'Correlation: {corr:.3f}',\n",
    "    transform=plt.gca().transAxes,\n",
    "    fontsize=10,\n",
    "    verticalalignment='top'\n",
    ")\n",
    "\n",
    "plt.show()"
   ]
  },
  {
   "cell_type": "code",
   "execution_count": null,
   "metadata": {},
   "outputs": [],
   "source": []
  }
 ],
 "metadata": {
  "kernelspec": {
   "display_name": "base",
   "language": "python",
   "name": "python3"
  },
  "language_info": {
   "codemirror_mode": {
    "name": "ipython",
    "version": 3
   },
   "file_extension": ".py",
   "mimetype": "text/x-python",
   "name": "python",
   "nbconvert_exporter": "python",
   "pygments_lexer": "ipython3",
   "version": "3.12.7"
  }
 },
 "nbformat": 4,
 "nbformat_minor": 2
}
